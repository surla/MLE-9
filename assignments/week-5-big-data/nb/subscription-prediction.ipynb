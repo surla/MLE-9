{
  "cells": [
    {
      "cell_type": "markdown",
      "metadata": {
        "id": "lmil5P4G6052"
      },
      "source": [
        "<p align = \"center\" draggable=”false” ><img src=\"https://user-images.githubusercontent.com/37101144/161836199-fdb0219d-0361-4988-bf26-48b0fad160a3.png\" \n",
        "     width=\"200px\"\n",
        "     height=\"auto\"/>\n",
        "</p>"
      ]
    },
    {
      "cell_type": "markdown",
      "metadata": {
        "application/vnd.databricks.v1+cell": {
          "inputWidgets": {},
          "nuid": "f25fead1-c5a9-4222-a41c-5d1634dd3446",
          "showTitle": false,
          "title": ""
        },
        "id": "oQU8pT9m6055"
      },
      "source": [
        "# <h1 align=\"center\" id=\"heading\">Subscription Prediction with Delta Lake, PySpark, and MLlib</h1>"
      ]
    },
    {
      "cell_type": "markdown",
      "metadata": {
        "id": "vxs4CnZ8MYR9"
      },
      "source": [
        "# Spark Environment\n",
        "\n",
        "Make sure that you open this notebook in your Spark environment!"
      ]
    },
    {
      "cell_type": "code",
      "execution_count": 1,
      "metadata": {
        "id": "i5lvRImyZQKy",
        "colab": {
          "base_uri": "https://localhost:8080/"
        },
        "outputId": "20d87a82-4315-49b9-a8bd-fd09af2ecdba"
      },
      "outputs": [
        {
          "output_type": "stream",
          "name": "stdout",
          "text": [
            "\u001b[K     |████████████████████████████████| 281.3 MB 42 kB/s \n",
            "\u001b[K     |████████████████████████████████| 199 kB 60.8 MB/s \n",
            "\u001b[?25h  Building wheel for pyspark (setup.py) ... \u001b[?25l\u001b[?25hdone\n"
          ]
        }
      ],
      "source": [
        "!pip install -U -q pyspark delta-spark # If you use Colab uncomment this line"
      ]
    },
    {
      "cell_type": "markdown",
      "metadata": {
        "id": "B30ILkiC6056"
      },
      "source": [
        "## Learning Objectives"
      ]
    },
    {
      "cell_type": "markdown",
      "metadata": {
        "id": "Dvbp4ifI6057"
      },
      "source": [
        "At the end of this session, you will be able to \n",
        "\n",
        "- Load, save, partition data with Delta Lake tables\n",
        "- Explore data with Spark DataFrames \n",
        "- Build a pipeline in MLlib for machine learning workflow\n",
        "- Fit a logistic regression model, make predictions, and evaluate the model"
      ]
    },
    {
      "cell_type": "markdown",
      "metadata": {
        "application/vnd.databricks.v1+cell": {
          "inputWidgets": {},
          "nuid": "2571c03a-cae9-4b9b-9861-f040eb696b2a",
          "showTitle": false,
          "title": ""
        },
        "id": "tTvh8EkV6057"
      },
      "source": [
        "## Part 1: Data Loader\n",
        "\n",
        "We are using a dataset from the UCI Machine Learning Repository.\n",
        "\n",
        "1. Use `wget` to download the dataset. Then use `ls` to verify that the `bank.zip` file is downloaded."
      ]
    },
    {
      "cell_type": "code",
      "execution_count": 2,
      "metadata": {
        "colab": {
          "base_uri": "https://localhost:8080/"
        },
        "id": "z0Su1lUX6058",
        "outputId": "5ce0edf2-bbc0-46be-8ba8-8e5d1dcee6b9"
      },
      "outputs": [
        {
          "output_type": "stream",
          "name": "stderr",
          "text": [
            "--2022-09-22 18:09:37--  https://archive.ics.uci.edu/ml/machine-learning-databases/00222/bank.zip\n",
            "Resolving archive.ics.uci.edu (archive.ics.uci.edu)... 128.195.10.252\n",
            "Connecting to archive.ics.uci.edu (archive.ics.uci.edu)|128.195.10.252|:443... connected.\n",
            "HTTP request sent, awaiting response... 200 OK\n",
            "Length: 579043 (565K) [application/x-httpd-php]\n",
            "Saving to: ‘bank.zip’\n",
            "\n",
            "     0K .......... .......... .......... .......... ..........  8% 2.45M 0s\n",
            "    50K .......... .......... .......... .......... .......... 17% 5.22M 0s\n",
            "   100K .......... .......... .......... .......... .......... 26% 5.00M 0s\n",
            "   150K .......... .......... .......... .......... .......... 35%  102M 0s\n",
            "   200K .......... .......... .......... .......... .......... 44% 5.97M 0s\n",
            "   250K .......... .......... .......... .......... .......... 53% 77.7M 0s\n",
            "   300K .......... .......... .......... .......... .......... 61% 93.2M 0s\n",
            "   350K .......... .......... .......... .......... .......... 70%  100M 0s\n",
            "   400K .......... .......... .......... .......... .......... 79% 65.7M 0s\n",
            "   450K .......... .......... .......... .......... .......... 88%  103M 0s\n",
            "   500K .......... .......... .......... .......... .......... 97% 7.04M 0s\n",
            "   550K .......... .....                                      100%  111M=0.06s\n",
            "\n",
            "2022-09-22 18:09:37 (9.57 MB/s) - ‘bank.zip’ saved [579043/579043]\n",
            "\n"
          ]
        }
      ],
      "source": [
        "%%sh\n",
        "wget https://archive.ics.uci.edu/ml/machine-learning-databases/00222/bank.zip"
      ]
    },
    {
      "cell_type": "code",
      "execution_count": 3,
      "metadata": {
        "application/vnd.databricks.v1+cell": {
          "inputWidgets": {},
          "nuid": "14241a78-c5ad-4962-9322-e0e6bdf3737f",
          "showTitle": false,
          "title": ""
        },
        "colab": {
          "base_uri": "https://localhost:8080/"
        },
        "id": "0gAxRiyy605-",
        "outputId": "fdc844b6-d02f-4eb5-ed7a-164ff1db2dd1"
      },
      "outputs": [
        {
          "output_type": "stream",
          "name": "stdout",
          "text": [
            "bank.zip  \u001b[0m\u001b[01;34msample_data\u001b[0m/\n"
          ]
        }
      ],
      "source": [
        "ls"
      ]
    },
    {
      "cell_type": "markdown",
      "metadata": {
        "id": "cGBxoptx605-"
      },
      "source": [
        "1. Unzip the file and use `ls` to see the files."
      ]
    },
    {
      "cell_type": "code",
      "execution_count": 4,
      "metadata": {
        "application/vnd.databricks.v1+cell": {
          "inputWidgets": {},
          "nuid": "000511fa-ff85-406c-9186-34c56a0369a6",
          "showTitle": false,
          "title": ""
        },
        "colab": {
          "base_uri": "https://localhost:8080/"
        },
        "id": "hySwTxHs605_",
        "outputId": "01c23b7f-a264-4990-8fd6-5fbf2d95a28b"
      },
      "outputs": [
        {
          "output_type": "stream",
          "name": "stdout",
          "text": [
            "Archive:  bank.zip\n",
            "  inflating: bank-full.csv           \n",
            "  inflating: bank-names.txt          \n",
            "  inflating: bank.csv                \n"
          ]
        }
      ],
      "source": [
        "%%sh\n",
        "unzip bank.zip"
      ]
    },
    {
      "cell_type": "code",
      "execution_count": 6,
      "metadata": {
        "application/vnd.databricks.v1+cell": {
          "inputWidgets": {},
          "nuid": "2349ba91-fc61-456f-96bf-5f5aea6b32d1",
          "showTitle": false,
          "title": ""
        },
        "colab": {
          "base_uri": "https://localhost:8080/"
        },
        "id": "K6UDQW1y605_",
        "outputId": "258ce36f-d450-438e-dc0d-2d5e85166f13"
      },
      "outputs": [
        {
          "output_type": "stream",
          "name": "stdout",
          "text": [
            "total 5.5M\n",
            "-rw-r--r-- 1 root root 451K Feb 14  2012 bank.csv\n",
            "-rw-r--r-- 1 root root 4.4M Feb 14  2012 bank-full.csv\n",
            "-rw-r--r-- 1 root root 3.8K Feb 14  2012 bank-names.txt\n",
            "-rw-r--r-- 1 root root 566K Feb 14  2012 bank.zip\n",
            "drwxr-xr-x 1 root root 4.0K Sep 14 13:44 \u001b[0m\u001b[01;34msample_data\u001b[0m/\n"
          ]
        }
      ],
      "source": [
        "ls -lh"
      ]
    },
    {
      "cell_type": "code",
      "execution_count": 5,
      "metadata": {
        "colab": {
          "base_uri": "https://localhost:8080/"
        },
        "id": "bsKTEA_kJm1Z",
        "outputId": "6c40c5a8-e3f8-4833-fa37-dfc10fe4ce5a"
      },
      "outputs": [
        {
          "output_type": "stream",
          "name": "stdout",
          "text": [
            "4522 bank.csv\n"
          ]
        }
      ],
      "source": [
        "%%sh\n",
        "wc -l bank.csv"
      ]
    },
    {
      "cell_type": "code",
      "execution_count": 7,
      "metadata": {
        "colab": {
          "base_uri": "https://localhost:8080/"
        },
        "id": "PUOdYkMKRrFf",
        "outputId": "91efbf9b-e1fb-4938-933a-935aab3c48c7"
      },
      "outputs": [
        {
          "output_type": "stream",
          "name": "stdout",
          "text": [
            "\"age\";\"job\";\"marital\";\"education\";\"default\";\"balance\";\"housing\";\"loan\";\"contact\";\"day\";\"month\";\"duration\";\"campaign\";\"pdays\";\"previous\";\"poutcome\";\"y\"\n",
            "30;\"unemployed\";\"married\";\"primary\";\"no\";1787;\"no\";\"no\";\"cellular\";19;\"oct\";79;1;-1;0;\"unknown\";\"no\"\n",
            "33;\"services\";\"married\";\"secondary\";\"no\";4789;\"yes\";\"yes\";\"cellular\";11;\"may\";220;1;339;4;\"failure\";\"no\"\n",
            "35;\"management\";\"single\";\"tertiary\";\"no\";1350;\"yes\";\"no\";\"cellular\";16;\"apr\";185;1;330;1;\"failure\";\"no\"\n",
            "30;\"management\";\"married\";\"tertiary\";\"no\";1476;\"yes\";\"yes\";\"unknown\";3;\"jun\";199;4;-1;0;\"unknown\";\"no\"\n",
            "59;\"blue-collar\";\"married\";\"secondary\";\"no\";0;\"yes\";\"no\";\"unknown\";5;\"may\";226;1;-1;0;\"unknown\";\"no\"\n",
            "35;\"management\";\"single\";\"tertiary\";\"no\";747;\"no\";\"no\";\"cellular\";23;\"feb\";141;2;176;3;\"failure\";\"no\"\n",
            "36;\"self-employed\";\"married\";\"tertiary\";\"no\";307;\"yes\";\"no\";\"cellular\";14;\"may\";341;1;330;2;\"other\";\"no\"\n",
            "39;\"technician\";\"married\";\"secondary\";\"no\";147;\"yes\";\"no\";\"cellular\";6;\"may\";151;2;-1;0;\"unknown\";\"no\"\n",
            "41;\"entrepreneur\";\"married\";\"tertiary\";\"no\";221;\"yes\";\"no\";\"unknown\";14;\"may\";57;2;-1;0;\"unknown\";\"no\"\n"
          ]
        }
      ],
      "source": [
        "%%sh\n",
        "head bank.csv"
      ]
    },
    {
      "cell_type": "markdown",
      "metadata": {
        "id": "1CLp_YaaNRvB"
      },
      "source": [
        "1. Create a Delta table for `bank.csv` (Why Delta Lake? Here's a read [here](https://medium.com/@databeans-blogs/delta-lake-the-data-engineers-missing-piece-part-1-ebab66a3f8c0?source) from a data engineer's perspective)\n",
        "\n",
        "    We first set up a Python project `ml-bank`, configure the SparkSession with the `configure_spark_with_delta_pip()` utility function in Delta Lake:"
      ]
    },
    {
      "cell_type": "code",
      "execution_count": 8,
      "metadata": {
        "id": "2VvPSH-2DVMy"
      },
      "outputs": [],
      "source": [
        "import pyspark\n",
        "from delta import *\n",
        "\n",
        "builder = pyspark.sql.SparkSession.builder.appName(\"ml-bank\") \\\n",
        "  .config(\"spark.sql.extensions\", \"io.delta.sql.DeltaSparkSessionExtension\") \\\n",
        "  .config(\"spark.sql.catalog.spark_catalog\", \"org.apache.spark.sql.delta.catalog.DeltaCatalog\")\n",
        "\n",
        "spark = configure_spark_with_delta_pip(builder).getOrCreate()"
      ]
    },
    {
      "cell_type": "markdown",
      "metadata": {
        "id": "NaHADc7XPgTA"
      },
      "source": [
        "   We define output formats and paths, you need to complete code to load the data from its source (since the delimiter of the file is semicolon, use [`spark.read.csv`](https://spark.apache.org/docs/latest/sql-data-sources-csv.html) that provides more flexibility) and write the data to its target (hint: [Create a table](https://docs.databricks.com/delta/quick-start.html#create-a-table))."
      ]
    },
    {
      "cell_type": "code",
      "execution_count": 10,
      "metadata": {
        "id": "oeuoo24dKsvS"
      },
      "outputs": [],
      "source": [
        "# Define the input and output formats and paths and the table name.\n",
        "write_format = 'delta'\n",
        "load_path = 'bank.csv'\n",
        "save_path = '/tmp/delta/bank-4k'\n",
        "table_name = 'default.bank4k'\n",
        "\n",
        "# Load the data from its source.\n",
        "df = spark.read.csv(load_path, header=True, inferSchema=True, sep=\";\")\n",
        "\n",
        "# Write the data to its target.\n",
        "df.write.format(write_format).mode('overwrite').save(save_path)"
      ]
    },
    {
      "cell_type": "markdown",
      "metadata": {
        "id": "xSPA8U_WUr8s"
      },
      "source": [
        "1. Verify what we just created."
      ]
    },
    {
      "cell_type": "code",
      "execution_count": 11,
      "metadata": {
        "colab": {
          "base_uri": "https://localhost:8080/"
        },
        "id": "1jqA0JktUqg8",
        "outputId": "20d9f8e3-196a-4588-9a54-94d0961433ae"
      },
      "outputs": [
        {
          "output_type": "stream",
          "name": "stdout",
          "text": [
            "total 64K\n",
            "drwxr-xr-x 2 root root 4.0K Sep 22 18:11 \u001b[0m\u001b[01;34m_delta_log\u001b[0m/\n",
            "-rw-r--r-- 1 root root  57K Sep 22 18:11 part-00000-70197362-6c42-4975-872a-6411006a9096-c000.snappy.parquet\n"
          ]
        }
      ],
      "source": [
        "ls -lh /tmp/delta/bank-4k/"
      ]
    },
    {
      "cell_type": "markdown",
      "metadata": {
        "id": "tz2noJLho8ME"
      },
      "source": [
        "1. Partition data by `job` status. \n",
        "\n",
        "  To speed up queries that have predicates involving the partition columns, we should partition data. Often time, we partition by anonymized user id; here we demonstrate the idea with `job`."
      ]
    },
    {
      "cell_type": "code",
      "execution_count": 12,
      "metadata": {
        "id": "hJCHS1OxnoUu"
      },
      "outputs": [],
      "source": [
        "import shutil\n",
        "shutil.rmtree(save_path) # To replace data, we need to remove the existing directory\n",
        "\n",
        "partition_by = 'job' # YOUR CODE HERE\n",
        "\n",
        "# Write the data to its target.\n",
        "df.write.partitionBy(partition_by).format(write_format).mode('overwrite').save(save_path)"
      ]
    },
    {
      "cell_type": "code",
      "execution_count": 13,
      "metadata": {
        "colab": {
          "base_uri": "https://localhost:8080/"
        },
        "id": "3N57HCGCoA6Y",
        "outputId": "08a21c61-2f52-404a-aff8-5cd34f7762fe"
      },
      "outputs": [
        {
          "output_type": "stream",
          "name": "stdout",
          "text": [
            "total 52K\n",
            "drwxr-xr-x 2 root root 4.0K Sep 22 18:11  \u001b[0m\u001b[01;34m_delta_log\u001b[0m/\n",
            "drwxr-xr-x 2 root root 4.0K Sep 22 18:11 \u001b[01;34m'job=admin.'\u001b[0m/\n",
            "drwxr-xr-x 2 root root 4.0K Sep 22 18:11 \u001b[01;34m'job=blue-collar'\u001b[0m/\n",
            "drwxr-xr-x 2 root root 4.0K Sep 22 18:11 \u001b[01;34m'job=entrepreneur'\u001b[0m/\n",
            "drwxr-xr-x 2 root root 4.0K Sep 22 18:11 \u001b[01;34m'job=housemaid'\u001b[0m/\n",
            "drwxr-xr-x 2 root root 4.0K Sep 22 18:11 \u001b[01;34m'job=management'\u001b[0m/\n",
            "drwxr-xr-x 2 root root 4.0K Sep 22 18:11 \u001b[01;34m'job=retired'\u001b[0m/\n",
            "drwxr-xr-x 2 root root 4.0K Sep 22 18:11 \u001b[01;34m'job=self-employed'\u001b[0m/\n",
            "drwxr-xr-x 2 root root 4.0K Sep 22 18:11 \u001b[01;34m'job=services'\u001b[0m/\n",
            "drwxr-xr-x 2 root root 4.0K Sep 22 18:11 \u001b[01;34m'job=student'\u001b[0m/\n",
            "drwxr-xr-x 2 root root 4.0K Sep 22 18:11 \u001b[01;34m'job=technician'\u001b[0m/\n",
            "drwxr-xr-x 2 root root 4.0K Sep 22 18:11 \u001b[01;34m'job=unemployed'\u001b[0m/\n",
            "drwxr-xr-x 2 root root 4.0K Sep 22 18:11 \u001b[01;34m'job=unknown'\u001b[0m/\n"
          ]
        }
      ],
      "source": [
        "ls -lh /tmp/delta/bank-4k"
      ]
    },
    {
      "cell_type": "markdown",
      "metadata": {
        "id": "LFRWT4qobDCw"
      },
      "source": [
        "  We only touch the surface of Delta Lake, for more information, check [Delta Lake guide](https://docs.databricks.com/delta/index.html)"
      ]
    },
    {
      "cell_type": "markdown",
      "metadata": {
        "application/vnd.databricks.v1+cell": {
          "inputWidgets": {},
          "nuid": "9e212db6-6e87-468b-abd7-15a720ff8b96",
          "showTitle": false,
          "title": ""
        },
        "id": "d6e3Lpd8606A"
      },
      "source": [
        "## Part 2: Exploring The Data\n",
        "\n",
        "We will use the direct marketing campaigns (phone calls) of a Portuguese banking institution. The classification goal is to predict whether the client will subscribe (Yes/No) to a term deposit.\n"
      ]
    },
    {
      "cell_type": "markdown",
      "metadata": {
        "id": "ySKvPhY8ZOQx"
      },
      "source": [
        "1. Load data from its source by specifying the data format and path; then check out the schemas."
      ]
    },
    {
      "cell_type": "code",
      "execution_count": 14,
      "metadata": {
        "application/vnd.databricks.v1+cell": {
          "inputWidgets": {},
          "nuid": "24bcf95a-d1ca-497c-9243-b0ab5556c6c4",
          "showTitle": false,
          "title": ""
        },
        "colab": {
          "base_uri": "https://localhost:8080/"
        },
        "id": "GVLwrGAN606A",
        "outputId": "9e4303f8-149e-40d3-fed4-a64b2f4c43a7"
      },
      "outputs": [
        {
          "output_type": "stream",
          "name": "stdout",
          "text": [
            "root\n",
            " |-- age: integer (nullable = true)\n",
            " |-- job: string (nullable = true)\n",
            " |-- marital: string (nullable = true)\n",
            " |-- education: string (nullable = true)\n",
            " |-- default: string (nullable = true)\n",
            " |-- balance: integer (nullable = true)\n",
            " |-- housing: string (nullable = true)\n",
            " |-- loan: string (nullable = true)\n",
            " |-- contact: string (nullable = true)\n",
            " |-- day: integer (nullable = true)\n",
            " |-- month: string (nullable = true)\n",
            " |-- duration: integer (nullable = true)\n",
            " |-- campaign: integer (nullable = true)\n",
            " |-- pdays: integer (nullable = true)\n",
            " |-- previous: integer (nullable = true)\n",
            " |-- poutcome: string (nullable = true)\n",
            " |-- y: string (nullable = true)\n",
            "\n"
          ]
        }
      ],
      "source": [
        "read_format = 'delta'\n",
        "load_path = '/tmp/delta/bank-4k/'\n",
        "\n",
        "df = spark.read.format(read_format).load(load_path) \n",
        "\n",
        "df.printSchema()"
      ]
    },
    {
      "cell_type": "markdown",
      "metadata": {
        "application/vnd.databricks.v1+cell": {
          "inputWidgets": {},
          "nuid": "08b5bb73-fc91-4240-a31c-036605467e8f",
          "showTitle": false,
          "title": ""
        },
        "id": "Aiqk3hQO606B"
      },
      "source": [
        "Here are the columns you should see:\n",
        "\n",
        "* Input variables: age, job, marital, education, default, balance, housing, loan, contact, day, month, duration, campaign, pdays, previous, poutcome\n",
        "\n",
        "* Output variable: y (deposit)\n",
        "\n",
        "2. Have a peek of the first five observations. Use the `.show()` method."
      ]
    },
    {
      "cell_type": "code",
      "execution_count": 16,
      "metadata": {
        "colab": {
          "base_uri": "https://localhost:8080/"
        },
        "id": "CWPoxTh7606B",
        "outputId": "e414197b-456d-4b5b-ec4c-fb994cc0410a"
      },
      "outputs": [
        {
          "output_type": "stream",
          "name": "stdout",
          "text": [
            "+---+----------+--------+---------+-------+-------+-------+----+---------+---+-----+--------+--------+-----+--------+--------+---+\n",
            "|age|       job| marital|education|default|balance|housing|loan|  contact|day|month|duration|campaign|pdays|previous|poutcome|  y|\n",
            "+---+----------+--------+---------+-------+-------+-------+----+---------+---+-----+--------+--------+-----+--------+--------+---+\n",
            "| 35|management|  single| tertiary|     no|   1350|    yes|  no| cellular| 16|  apr|     185|       1|  330|       1| failure| no|\n",
            "| 30|management| married| tertiary|     no|   1476|    yes| yes|  unknown|  3|  jun|     199|       4|   -1|       0| unknown| no|\n",
            "| 35|management|  single| tertiary|     no|    747|     no|  no| cellular| 23|  feb|     141|       2|  176|       3| failure| no|\n",
            "| 40|management| married| tertiary|     no|    194|     no| yes| cellular| 29|  aug|     189|       2|   -1|       0| unknown| no|\n",
            "| 38|management|divorced|  unknown|     no|      0|    yes|  no| cellular| 18|  nov|      96|       2|   -1|       0| unknown| no|\n",
            "| 42|management|divorced| tertiary|     no|     16|     no|  no| cellular| 19|  nov|     140|       3|   -1|       0| unknown| no|\n",
            "| 41|management| married| tertiary|     no|   5883|     no|  no| cellular| 20|  nov|     182|       2|   -1|       0| unknown| no|\n",
            "| 59|management| married|secondary|     no|     42|     no|  no| cellular| 21|  nov|      40|       1|   -1|       0| unknown| no|\n",
            "| 32|management|  single| tertiary|     no|   2536|    yes|  no| cellular| 26|  aug|     958|       6|   -1|       0| unknown|yes|\n",
            "| 33|management| married|secondary|     no|   3935|    yes|  no| cellular|  6|  may|     765|       1|  342|       2| failure|yes|\n",
            "| 38|management|  single| tertiary|     no|  11971|    yes|  no|  unknown| 17|  nov|     609|       2|  101|       3| failure| no|\n",
            "| 36|management|  single| tertiary|     no|    553|     no|  no| cellular| 11|  aug|     106|       2|   -1|       0| unknown| no|\n",
            "| 34|management|  single| tertiary|     no|    872|    yes|  no|  unknown|  7|  may|     105|       2|   -1|       0| unknown| no|\n",
            "| 57|management| married|secondary|     no|     82|     no| yes|telephone|  4|  feb|     140|       1|   -1|       0| unknown| no|\n",
            "| 48|management| married| tertiary|     no|   5887|     no|  no| cellular| 13|  aug|     227|       2|   -1|       0| unknown| no|\n",
            "| 41|management| married|secondary|     no|      0|     no| yes| cellular|  7|  jul|     630|       3|   -1|       0| unknown| no|\n",
            "| 37|management| married| tertiary|     no|      0|     no|  no| cellular| 16|  jul|     268|       2|  182|       3| success|yes|\n",
            "| 31|management|  single| tertiary|     no|   6248|    yes|  no|  unknown|  9|  may|     154|       2|   -1|       0| unknown| no|\n",
            "| 54|management|divorced| tertiary|     no|   3222|     no|  no| cellular| 14|  aug|      67|       2|   -1|       0| unknown| no|\n",
            "| 37|management| married| tertiary|     no|   1315|     no|  no| cellular| 30|  jun|     224|       1|   -1|       0| unknown|yes|\n",
            "+---+----------+--------+---------+-------+-------+-------+----+---------+---+-----+--------+--------+-----+--------+--------+---+\n",
            "only showing top 20 rows\n",
            "\n"
          ]
        }
      ],
      "source": [
        "df.show()"
      ]
    },
    {
      "cell_type": "markdown",
      "metadata": {
        "id": "mOITLLCvG4Sb"
      },
      "source": [
        "To get a prettier result, it can be nice to use Pandas to display our DataFrame. Use the Spark `.take()` method to get the first 5 rows and then convert to a pandas DataFrame. Don't forget to pass along the column names. You should see the same result as above, but in a more aesthetically appealing format."
      ]
    },
    {
      "cell_type": "markdown",
      "source": [],
      "metadata": {
        "id": "sCXBvKITaxGH"
      }
    },
    {
      "cell_type": "code",
      "execution_count": 32,
      "metadata": {
        "colab": {
          "base_uri": "https://localhost:8080/",
          "height": 270
        },
        "id": "VRenwPrOGz0D",
        "outputId": "1fb5960d-f0e1-4f17-e40f-dd9ac83439b4"
      },
      "outputs": [
        {
          "output_type": "execute_result",
          "data": {
            "text/plain": [
              "   age         job   marital education default  balance housing loan  \\\n",
              "0   35  management    single  tertiary      no     1350     yes   no   \n",
              "1   30  management   married  tertiary      no     1476     yes  yes   \n",
              "2   35  management    single  tertiary      no      747      no   no   \n",
              "3   40  management   married  tertiary      no      194      no  yes   \n",
              "4   38  management  divorced   unknown      no        0     yes   no   \n",
              "\n",
              "    contact  day month  duration  campaign  pdays  previous poutcome   y  \n",
              "0  cellular   16   apr       185         1    330         1  failure  no  \n",
              "1   unknown    3   jun       199         4     -1         0  unknown  no  \n",
              "2  cellular   23   feb       141         2    176         3  failure  no  \n",
              "3  cellular   29   aug       189         2     -1         0  unknown  no  \n",
              "4  cellular   18   nov        96         2     -1         0  unknown  no  "
            ],
            "text/html": [
              "\n",
              "  <div id=\"df-ebcfe1e6-5be8-43f8-bebd-d3d325ba99fb\">\n",
              "    <div class=\"colab-df-container\">\n",
              "      <div>\n",
              "<style scoped>\n",
              "    .dataframe tbody tr th:only-of-type {\n",
              "        vertical-align: middle;\n",
              "    }\n",
              "\n",
              "    .dataframe tbody tr th {\n",
              "        vertical-align: top;\n",
              "    }\n",
              "\n",
              "    .dataframe thead th {\n",
              "        text-align: right;\n",
              "    }\n",
              "</style>\n",
              "<table border=\"1\" class=\"dataframe\">\n",
              "  <thead>\n",
              "    <tr style=\"text-align: right;\">\n",
              "      <th></th>\n",
              "      <th>age</th>\n",
              "      <th>job</th>\n",
              "      <th>marital</th>\n",
              "      <th>education</th>\n",
              "      <th>default</th>\n",
              "      <th>balance</th>\n",
              "      <th>housing</th>\n",
              "      <th>loan</th>\n",
              "      <th>contact</th>\n",
              "      <th>day</th>\n",
              "      <th>month</th>\n",
              "      <th>duration</th>\n",
              "      <th>campaign</th>\n",
              "      <th>pdays</th>\n",
              "      <th>previous</th>\n",
              "      <th>poutcome</th>\n",
              "      <th>y</th>\n",
              "    </tr>\n",
              "  </thead>\n",
              "  <tbody>\n",
              "    <tr>\n",
              "      <th>0</th>\n",
              "      <td>35</td>\n",
              "      <td>management</td>\n",
              "      <td>single</td>\n",
              "      <td>tertiary</td>\n",
              "      <td>no</td>\n",
              "      <td>1350</td>\n",
              "      <td>yes</td>\n",
              "      <td>no</td>\n",
              "      <td>cellular</td>\n",
              "      <td>16</td>\n",
              "      <td>apr</td>\n",
              "      <td>185</td>\n",
              "      <td>1</td>\n",
              "      <td>330</td>\n",
              "      <td>1</td>\n",
              "      <td>failure</td>\n",
              "      <td>no</td>\n",
              "    </tr>\n",
              "    <tr>\n",
              "      <th>1</th>\n",
              "      <td>30</td>\n",
              "      <td>management</td>\n",
              "      <td>married</td>\n",
              "      <td>tertiary</td>\n",
              "      <td>no</td>\n",
              "      <td>1476</td>\n",
              "      <td>yes</td>\n",
              "      <td>yes</td>\n",
              "      <td>unknown</td>\n",
              "      <td>3</td>\n",
              "      <td>jun</td>\n",
              "      <td>199</td>\n",
              "      <td>4</td>\n",
              "      <td>-1</td>\n",
              "      <td>0</td>\n",
              "      <td>unknown</td>\n",
              "      <td>no</td>\n",
              "    </tr>\n",
              "    <tr>\n",
              "      <th>2</th>\n",
              "      <td>35</td>\n",
              "      <td>management</td>\n",
              "      <td>single</td>\n",
              "      <td>tertiary</td>\n",
              "      <td>no</td>\n",
              "      <td>747</td>\n",
              "      <td>no</td>\n",
              "      <td>no</td>\n",
              "      <td>cellular</td>\n",
              "      <td>23</td>\n",
              "      <td>feb</td>\n",
              "      <td>141</td>\n",
              "      <td>2</td>\n",
              "      <td>176</td>\n",
              "      <td>3</td>\n",
              "      <td>failure</td>\n",
              "      <td>no</td>\n",
              "    </tr>\n",
              "    <tr>\n",
              "      <th>3</th>\n",
              "      <td>40</td>\n",
              "      <td>management</td>\n",
              "      <td>married</td>\n",
              "      <td>tertiary</td>\n",
              "      <td>no</td>\n",
              "      <td>194</td>\n",
              "      <td>no</td>\n",
              "      <td>yes</td>\n",
              "      <td>cellular</td>\n",
              "      <td>29</td>\n",
              "      <td>aug</td>\n",
              "      <td>189</td>\n",
              "      <td>2</td>\n",
              "      <td>-1</td>\n",
              "      <td>0</td>\n",
              "      <td>unknown</td>\n",
              "      <td>no</td>\n",
              "    </tr>\n",
              "    <tr>\n",
              "      <th>4</th>\n",
              "      <td>38</td>\n",
              "      <td>management</td>\n",
              "      <td>divorced</td>\n",
              "      <td>unknown</td>\n",
              "      <td>no</td>\n",
              "      <td>0</td>\n",
              "      <td>yes</td>\n",
              "      <td>no</td>\n",
              "      <td>cellular</td>\n",
              "      <td>18</td>\n",
              "      <td>nov</td>\n",
              "      <td>96</td>\n",
              "      <td>2</td>\n",
              "      <td>-1</td>\n",
              "      <td>0</td>\n",
              "      <td>unknown</td>\n",
              "      <td>no</td>\n",
              "    </tr>\n",
              "  </tbody>\n",
              "</table>\n",
              "</div>\n",
              "      <button class=\"colab-df-convert\" onclick=\"convertToInteractive('df-ebcfe1e6-5be8-43f8-bebd-d3d325ba99fb')\"\n",
              "              title=\"Convert this dataframe to an interactive table.\"\n",
              "              style=\"display:none;\">\n",
              "        \n",
              "  <svg xmlns=\"http://www.w3.org/2000/svg\" height=\"24px\"viewBox=\"0 0 24 24\"\n",
              "       width=\"24px\">\n",
              "    <path d=\"M0 0h24v24H0V0z\" fill=\"none\"/>\n",
              "    <path d=\"M18.56 5.44l.94 2.06.94-2.06 2.06-.94-2.06-.94-.94-2.06-.94 2.06-2.06.94zm-11 1L8.5 8.5l.94-2.06 2.06-.94-2.06-.94L8.5 2.5l-.94 2.06-2.06.94zm10 10l.94 2.06.94-2.06 2.06-.94-2.06-.94-.94-2.06-.94 2.06-2.06.94z\"/><path d=\"M17.41 7.96l-1.37-1.37c-.4-.4-.92-.59-1.43-.59-.52 0-1.04.2-1.43.59L10.3 9.45l-7.72 7.72c-.78.78-.78 2.05 0 2.83L4 21.41c.39.39.9.59 1.41.59.51 0 1.02-.2 1.41-.59l7.78-7.78 2.81-2.81c.8-.78.8-2.07 0-2.86zM5.41 20L4 18.59l7.72-7.72 1.47 1.35L5.41 20z\"/>\n",
              "  </svg>\n",
              "      </button>\n",
              "      \n",
              "  <style>\n",
              "    .colab-df-container {\n",
              "      display:flex;\n",
              "      flex-wrap:wrap;\n",
              "      gap: 12px;\n",
              "    }\n",
              "\n",
              "    .colab-df-convert {\n",
              "      background-color: #E8F0FE;\n",
              "      border: none;\n",
              "      border-radius: 50%;\n",
              "      cursor: pointer;\n",
              "      display: none;\n",
              "      fill: #1967D2;\n",
              "      height: 32px;\n",
              "      padding: 0 0 0 0;\n",
              "      width: 32px;\n",
              "    }\n",
              "\n",
              "    .colab-df-convert:hover {\n",
              "      background-color: #E2EBFA;\n",
              "      box-shadow: 0px 1px 2px rgba(60, 64, 67, 0.3), 0px 1px 3px 1px rgba(60, 64, 67, 0.15);\n",
              "      fill: #174EA6;\n",
              "    }\n",
              "\n",
              "    [theme=dark] .colab-df-convert {\n",
              "      background-color: #3B4455;\n",
              "      fill: #D2E3FC;\n",
              "    }\n",
              "\n",
              "    [theme=dark] .colab-df-convert:hover {\n",
              "      background-color: #434B5C;\n",
              "      box-shadow: 0px 1px 3px 1px rgba(0, 0, 0, 0.15);\n",
              "      filter: drop-shadow(0px 1px 2px rgba(0, 0, 0, 0.3));\n",
              "      fill: #FFFFFF;\n",
              "    }\n",
              "  </style>\n",
              "\n",
              "      <script>\n",
              "        const buttonEl =\n",
              "          document.querySelector('#df-ebcfe1e6-5be8-43f8-bebd-d3d325ba99fb button.colab-df-convert');\n",
              "        buttonEl.style.display =\n",
              "          google.colab.kernel.accessAllowed ? 'block' : 'none';\n",
              "\n",
              "        async function convertToInteractive(key) {\n",
              "          const element = document.querySelector('#df-ebcfe1e6-5be8-43f8-bebd-d3d325ba99fb');\n",
              "          const dataTable =\n",
              "            await google.colab.kernel.invokeFunction('convertToInteractive',\n",
              "                                                     [key], {});\n",
              "          if (!dataTable) return;\n",
              "\n",
              "          const docLinkHtml = 'Like what you see? Visit the ' +\n",
              "            '<a target=\"_blank\" href=https://colab.research.google.com/notebooks/data_table.ipynb>data table notebook</a>'\n",
              "            + ' to learn more about interactive tables.';\n",
              "          element.innerHTML = '';\n",
              "          dataTable['output_type'] = 'display_data';\n",
              "          await google.colab.output.renderOutput(dataTable, element);\n",
              "          const docLink = document.createElement('div');\n",
              "          docLink.innerHTML = docLinkHtml;\n",
              "          element.appendChild(docLink);\n",
              "        }\n",
              "      </script>\n",
              "    </div>\n",
              "  </div>\n",
              "  "
            ]
          },
          "metadata": {},
          "execution_count": 32
        }
      ],
      "source": [
        "import pandas as pd\n",
        "\n",
        "pd.DataFrame(df.take(5), columns=df.columns)"
      ]
    },
    {
      "cell_type": "markdown",
      "metadata": {
        "id": "1uKOs_Ka606B"
      },
      "source": [
        "3. We can also perform transformations on our DataFrame using the Pandas commands that we know and love using the [Pandas on Spark API](https://spark.apache.org/docs/latest/api/python/user_guide/pandas_on_spark/index.html) **(new on Spark versions >= 3.2)**.  Pandas on Spark API was born out of the Databricks project, Koalas 🐨, allows us to use the Pandas commands and aesthetically pleasing output that we know and love distributed on the speed and scale of Spark!  For a nice quickstart on Pandas on Spark, check out this [article](https://towardsdatascience.com/run-pandas-as-fast-as-spark-f5eefe780c45)!  Let's convert our Spark DataFrame to a Pandas on Spark DataFrame!"
      ]
    },
    {
      "cell_type": "code",
      "execution_count": 33,
      "metadata": {
        "application/vnd.databricks.v1+cell": {
          "inputWidgets": {},
          "nuid": "9abd6308-77f0-420b-a80a-03ef2928c963",
          "showTitle": false,
          "title": ""
        },
        "colab": {
          "base_uri": "https://localhost:8080/",
          "height": 226
        },
        "id": "p7G6371u606C",
        "outputId": "d00a9d82-61ba-42be-e36a-f7a16aba3793"
      },
      "outputs": [
        {
          "output_type": "execute_result",
          "data": {
            "text/plain": [
              "   age         job   marital education default  balance housing loan   contact  day month  duration  campaign  pdays  previous poutcome   y\n",
              "0   35  management    single  tertiary      no     1350     yes   no  cellular   16   apr       185         1    330         1  failure  no\n",
              "1   30  management   married  tertiary      no     1476     yes  yes   unknown    3   jun       199         4     -1         0  unknown  no\n",
              "2   35  management    single  tertiary      no      747      no   no  cellular   23   feb       141         2    176         3  failure  no\n",
              "3   40  management   married  tertiary      no      194      no  yes  cellular   29   aug       189         2     -1         0  unknown  no\n",
              "4   38  management  divorced   unknown      no        0     yes   no  cellular   18   nov        96         2     -1         0  unknown  no"
            ],
            "text/html": [
              "<div>\n",
              "<style scoped>\n",
              "    .dataframe tbody tr th:only-of-type {\n",
              "        vertical-align: middle;\n",
              "    }\n",
              "\n",
              "    .dataframe tbody tr th {\n",
              "        vertical-align: top;\n",
              "    }\n",
              "\n",
              "    .dataframe thead th {\n",
              "        text-align: right;\n",
              "    }\n",
              "</style>\n",
              "<table border=\"1\" class=\"dataframe\">\n",
              "  <thead>\n",
              "    <tr style=\"text-align: right;\">\n",
              "      <th></th>\n",
              "      <th>age</th>\n",
              "      <th>job</th>\n",
              "      <th>marital</th>\n",
              "      <th>education</th>\n",
              "      <th>default</th>\n",
              "      <th>balance</th>\n",
              "      <th>housing</th>\n",
              "      <th>loan</th>\n",
              "      <th>contact</th>\n",
              "      <th>day</th>\n",
              "      <th>month</th>\n",
              "      <th>duration</th>\n",
              "      <th>campaign</th>\n",
              "      <th>pdays</th>\n",
              "      <th>previous</th>\n",
              "      <th>poutcome</th>\n",
              "      <th>y</th>\n",
              "    </tr>\n",
              "  </thead>\n",
              "  <tbody>\n",
              "    <tr>\n",
              "      <th>0</th>\n",
              "      <td>35</td>\n",
              "      <td>management</td>\n",
              "      <td>single</td>\n",
              "      <td>tertiary</td>\n",
              "      <td>no</td>\n",
              "      <td>1350</td>\n",
              "      <td>yes</td>\n",
              "      <td>no</td>\n",
              "      <td>cellular</td>\n",
              "      <td>16</td>\n",
              "      <td>apr</td>\n",
              "      <td>185</td>\n",
              "      <td>1</td>\n",
              "      <td>330</td>\n",
              "      <td>1</td>\n",
              "      <td>failure</td>\n",
              "      <td>no</td>\n",
              "    </tr>\n",
              "    <tr>\n",
              "      <th>1</th>\n",
              "      <td>30</td>\n",
              "      <td>management</td>\n",
              "      <td>married</td>\n",
              "      <td>tertiary</td>\n",
              "      <td>no</td>\n",
              "      <td>1476</td>\n",
              "      <td>yes</td>\n",
              "      <td>yes</td>\n",
              "      <td>unknown</td>\n",
              "      <td>3</td>\n",
              "      <td>jun</td>\n",
              "      <td>199</td>\n",
              "      <td>4</td>\n",
              "      <td>-1</td>\n",
              "      <td>0</td>\n",
              "      <td>unknown</td>\n",
              "      <td>no</td>\n",
              "    </tr>\n",
              "    <tr>\n",
              "      <th>2</th>\n",
              "      <td>35</td>\n",
              "      <td>management</td>\n",
              "      <td>single</td>\n",
              "      <td>tertiary</td>\n",
              "      <td>no</td>\n",
              "      <td>747</td>\n",
              "      <td>no</td>\n",
              "      <td>no</td>\n",
              "      <td>cellular</td>\n",
              "      <td>23</td>\n",
              "      <td>feb</td>\n",
              "      <td>141</td>\n",
              "      <td>2</td>\n",
              "      <td>176</td>\n",
              "      <td>3</td>\n",
              "      <td>failure</td>\n",
              "      <td>no</td>\n",
              "    </tr>\n",
              "    <tr>\n",
              "      <th>3</th>\n",
              "      <td>40</td>\n",
              "      <td>management</td>\n",
              "      <td>married</td>\n",
              "      <td>tertiary</td>\n",
              "      <td>no</td>\n",
              "      <td>194</td>\n",
              "      <td>no</td>\n",
              "      <td>yes</td>\n",
              "      <td>cellular</td>\n",
              "      <td>29</td>\n",
              "      <td>aug</td>\n",
              "      <td>189</td>\n",
              "      <td>2</td>\n",
              "      <td>-1</td>\n",
              "      <td>0</td>\n",
              "      <td>unknown</td>\n",
              "      <td>no</td>\n",
              "    </tr>\n",
              "    <tr>\n",
              "      <th>4</th>\n",
              "      <td>38</td>\n",
              "      <td>management</td>\n",
              "      <td>divorced</td>\n",
              "      <td>unknown</td>\n",
              "      <td>no</td>\n",
              "      <td>0</td>\n",
              "      <td>yes</td>\n",
              "      <td>no</td>\n",
              "      <td>cellular</td>\n",
              "      <td>18</td>\n",
              "      <td>nov</td>\n",
              "      <td>96</td>\n",
              "      <td>2</td>\n",
              "      <td>-1</td>\n",
              "      <td>0</td>\n",
              "      <td>unknown</td>\n",
              "      <td>no</td>\n",
              "    </tr>\n",
              "  </tbody>\n",
              "</table>\n",
              "</div>"
            ]
          },
          "metadata": {},
          "execution_count": 33
        }
      ],
      "source": [
        "import pyspark.pandas as ps\n",
        "\n",
        "psdf = df.pandas_api()\n",
        "psdf.head(5)"
      ]
    },
    {
      "cell_type": "markdown",
      "metadata": {
        "id": "UMK2KbvG606C"
      },
      "source": [
        "4. How many datapoints are there in the dataset? Use the `.count()` method."
      ]
    },
    {
      "cell_type": "code",
      "execution_count": null,
      "metadata": {
        "application/vnd.databricks.v1+cell": {
          "inputWidgets": {},
          "nuid": "d2bccb04-2a21-4053-bac9-44db61d30a14",
          "showTitle": false,
          "title": ""
        },
        "id": "CGCjBX-8606C"
      },
      "outputs": [],
      "source": [
        "psdf.count()"
      ]
    },
    {
      "cell_type": "markdown",
      "metadata": {
        "id": "B6chyZha606D"
      },
      "source": [
        "5. Use the `.describe()` method to see summary statistics on the features."
      ]
    },
    {
      "cell_type": "code",
      "execution_count": 34,
      "metadata": {
        "colab": {
          "base_uri": "https://localhost:8080/",
          "height": 300
        },
        "id": "mpmp504K606D",
        "outputId": "7f879513-f3ef-409d-9dc4-67017a38b6b0"
      },
      "outputs": [
        {
          "output_type": "execute_result",
          "data": {
            "text/plain": [
              "               age       balance          day     duration     campaign        pdays     previous\n",
              "count  4521.000000   4521.000000  4521.000000  4521.000000  4521.000000  4521.000000  4521.000000\n",
              "mean     41.170095   1422.657819    15.915284   263.961292     2.793630    39.766645     0.542579\n",
              "std      10.576211   3009.638142     8.247667   259.856633     3.109807   100.121124     1.693562\n",
              "min      19.000000  -3313.000000     1.000000     4.000000     1.000000    -1.000000     0.000000\n",
              "25%      33.000000     69.000000     9.000000   104.000000     1.000000    -1.000000     0.000000\n",
              "50%      39.000000    444.000000    16.000000   185.000000     2.000000    -1.000000     0.000000\n",
              "75%      49.000000   1480.000000    21.000000   329.000000     3.000000    -1.000000     0.000000\n",
              "max      87.000000  71188.000000    31.000000  3025.000000    50.000000   871.000000    25.000000"
            ],
            "text/html": [
              "<div>\n",
              "<style scoped>\n",
              "    .dataframe tbody tr th:only-of-type {\n",
              "        vertical-align: middle;\n",
              "    }\n",
              "\n",
              "    .dataframe tbody tr th {\n",
              "        vertical-align: top;\n",
              "    }\n",
              "\n",
              "    .dataframe thead th {\n",
              "        text-align: right;\n",
              "    }\n",
              "</style>\n",
              "<table border=\"1\" class=\"dataframe\">\n",
              "  <thead>\n",
              "    <tr style=\"text-align: right;\">\n",
              "      <th></th>\n",
              "      <th>age</th>\n",
              "      <th>balance</th>\n",
              "      <th>day</th>\n",
              "      <th>duration</th>\n",
              "      <th>campaign</th>\n",
              "      <th>pdays</th>\n",
              "      <th>previous</th>\n",
              "    </tr>\n",
              "  </thead>\n",
              "  <tbody>\n",
              "    <tr>\n",
              "      <th>count</th>\n",
              "      <td>4521.000000</td>\n",
              "      <td>4521.000000</td>\n",
              "      <td>4521.000000</td>\n",
              "      <td>4521.000000</td>\n",
              "      <td>4521.000000</td>\n",
              "      <td>4521.000000</td>\n",
              "      <td>4521.000000</td>\n",
              "    </tr>\n",
              "    <tr>\n",
              "      <th>mean</th>\n",
              "      <td>41.170095</td>\n",
              "      <td>1422.657819</td>\n",
              "      <td>15.915284</td>\n",
              "      <td>263.961292</td>\n",
              "      <td>2.793630</td>\n",
              "      <td>39.766645</td>\n",
              "      <td>0.542579</td>\n",
              "    </tr>\n",
              "    <tr>\n",
              "      <th>std</th>\n",
              "      <td>10.576211</td>\n",
              "      <td>3009.638142</td>\n",
              "      <td>8.247667</td>\n",
              "      <td>259.856633</td>\n",
              "      <td>3.109807</td>\n",
              "      <td>100.121124</td>\n",
              "      <td>1.693562</td>\n",
              "    </tr>\n",
              "    <tr>\n",
              "      <th>min</th>\n",
              "      <td>19.000000</td>\n",
              "      <td>-3313.000000</td>\n",
              "      <td>1.000000</td>\n",
              "      <td>4.000000</td>\n",
              "      <td>1.000000</td>\n",
              "      <td>-1.000000</td>\n",
              "      <td>0.000000</td>\n",
              "    </tr>\n",
              "    <tr>\n",
              "      <th>25%</th>\n",
              "      <td>33.000000</td>\n",
              "      <td>69.000000</td>\n",
              "      <td>9.000000</td>\n",
              "      <td>104.000000</td>\n",
              "      <td>1.000000</td>\n",
              "      <td>-1.000000</td>\n",
              "      <td>0.000000</td>\n",
              "    </tr>\n",
              "    <tr>\n",
              "      <th>50%</th>\n",
              "      <td>39.000000</td>\n",
              "      <td>444.000000</td>\n",
              "      <td>16.000000</td>\n",
              "      <td>185.000000</td>\n",
              "      <td>2.000000</td>\n",
              "      <td>-1.000000</td>\n",
              "      <td>0.000000</td>\n",
              "    </tr>\n",
              "    <tr>\n",
              "      <th>75%</th>\n",
              "      <td>49.000000</td>\n",
              "      <td>1480.000000</td>\n",
              "      <td>21.000000</td>\n",
              "      <td>329.000000</td>\n",
              "      <td>3.000000</td>\n",
              "      <td>-1.000000</td>\n",
              "      <td>0.000000</td>\n",
              "    </tr>\n",
              "    <tr>\n",
              "      <th>max</th>\n",
              "      <td>87.000000</td>\n",
              "      <td>71188.000000</td>\n",
              "      <td>31.000000</td>\n",
              "      <td>3025.000000</td>\n",
              "      <td>50.000000</td>\n",
              "      <td>871.000000</td>\n",
              "      <td>25.000000</td>\n",
              "    </tr>\n",
              "  </tbody>\n",
              "</table>\n",
              "</div>"
            ]
          },
          "metadata": {},
          "execution_count": 34
        }
      ],
      "source": [
        "psdf.describe()"
      ]
    },
    {
      "cell_type": "markdown",
      "metadata": {
        "application/vnd.databricks.v1+cell": {
          "inputWidgets": {},
          "nuid": "c7e85015-5739-4f67-bd73-af23d1decf4c",
          "showTitle": false,
          "title": ""
        },
        "id": "8hdB0-gZ606D"
      },
      "source": [
        "6. The above result includes the columns that are categorical, so don't have useful summary statistics. Let's limit to just the numeric features.\n",
        "\n",
        "    `numeric_features` is defined below to contain the column names of the numeric features.  Notice we use the `zip` functions to iterate through two lists at the same time!\n",
        "    \n",
        "    Filter the DataFrame as you would in Pandas to select only the numeric features from the DataFrame and then get the summary statistics on the resulting DataFrame as we did above."
      ]
    },
    {
      "cell_type": "code",
      "execution_count": 35,
      "metadata": {
        "application/vnd.databricks.v1+cell": {
          "inputWidgets": {},
          "nuid": "b843ce9c-92bb-4e45-b54a-4fea20d7e5d7",
          "showTitle": false,
          "title": ""
        },
        "colab": {
          "base_uri": "https://localhost:8080/",
          "height": 300
        },
        "id": "xP4uY29z606E",
        "outputId": "7d582351-13cd-4a26-b65a-0b85f393fa94"
      },
      "outputs": [
        {
          "output_type": "execute_result",
          "data": {
            "text/plain": [
              "               age       balance          day     duration     campaign        pdays     previous\n",
              "count  4521.000000   4521.000000  4521.000000  4521.000000  4521.000000  4521.000000  4521.000000\n",
              "mean     41.170095   1422.657819    15.915284   263.961292     2.793630    39.766645     0.542579\n",
              "std      10.576211   3009.638142     8.247667   259.856633     3.109807   100.121124     1.693562\n",
              "min      19.000000  -3313.000000     1.000000     4.000000     1.000000    -1.000000     0.000000\n",
              "25%      33.000000     69.000000     9.000000   104.000000     1.000000    -1.000000     0.000000\n",
              "50%      39.000000    444.000000    16.000000   185.000000     2.000000    -1.000000     0.000000\n",
              "75%      49.000000   1480.000000    21.000000   329.000000     3.000000    -1.000000     0.000000\n",
              "max      87.000000  71188.000000    31.000000  3025.000000    50.000000   871.000000    25.000000"
            ],
            "text/html": [
              "<div>\n",
              "<style scoped>\n",
              "    .dataframe tbody tr th:only-of-type {\n",
              "        vertical-align: middle;\n",
              "    }\n",
              "\n",
              "    .dataframe tbody tr th {\n",
              "        vertical-align: top;\n",
              "    }\n",
              "\n",
              "    .dataframe thead th {\n",
              "        text-align: right;\n",
              "    }\n",
              "</style>\n",
              "<table border=\"1\" class=\"dataframe\">\n",
              "  <thead>\n",
              "    <tr style=\"text-align: right;\">\n",
              "      <th></th>\n",
              "      <th>age</th>\n",
              "      <th>balance</th>\n",
              "      <th>day</th>\n",
              "      <th>duration</th>\n",
              "      <th>campaign</th>\n",
              "      <th>pdays</th>\n",
              "      <th>previous</th>\n",
              "    </tr>\n",
              "  </thead>\n",
              "  <tbody>\n",
              "    <tr>\n",
              "      <th>count</th>\n",
              "      <td>4521.000000</td>\n",
              "      <td>4521.000000</td>\n",
              "      <td>4521.000000</td>\n",
              "      <td>4521.000000</td>\n",
              "      <td>4521.000000</td>\n",
              "      <td>4521.000000</td>\n",
              "      <td>4521.000000</td>\n",
              "    </tr>\n",
              "    <tr>\n",
              "      <th>mean</th>\n",
              "      <td>41.170095</td>\n",
              "      <td>1422.657819</td>\n",
              "      <td>15.915284</td>\n",
              "      <td>263.961292</td>\n",
              "      <td>2.793630</td>\n",
              "      <td>39.766645</td>\n",
              "      <td>0.542579</td>\n",
              "    </tr>\n",
              "    <tr>\n",
              "      <th>std</th>\n",
              "      <td>10.576211</td>\n",
              "      <td>3009.638142</td>\n",
              "      <td>8.247667</td>\n",
              "      <td>259.856633</td>\n",
              "      <td>3.109807</td>\n",
              "      <td>100.121124</td>\n",
              "      <td>1.693562</td>\n",
              "    </tr>\n",
              "    <tr>\n",
              "      <th>min</th>\n",
              "      <td>19.000000</td>\n",
              "      <td>-3313.000000</td>\n",
              "      <td>1.000000</td>\n",
              "      <td>4.000000</td>\n",
              "      <td>1.000000</td>\n",
              "      <td>-1.000000</td>\n",
              "      <td>0.000000</td>\n",
              "    </tr>\n",
              "    <tr>\n",
              "      <th>25%</th>\n",
              "      <td>33.000000</td>\n",
              "      <td>69.000000</td>\n",
              "      <td>9.000000</td>\n",
              "      <td>104.000000</td>\n",
              "      <td>1.000000</td>\n",
              "      <td>-1.000000</td>\n",
              "      <td>0.000000</td>\n",
              "    </tr>\n",
              "    <tr>\n",
              "      <th>50%</th>\n",
              "      <td>39.000000</td>\n",
              "      <td>444.000000</td>\n",
              "      <td>16.000000</td>\n",
              "      <td>185.000000</td>\n",
              "      <td>2.000000</td>\n",
              "      <td>-1.000000</td>\n",
              "      <td>0.000000</td>\n",
              "    </tr>\n",
              "    <tr>\n",
              "      <th>75%</th>\n",
              "      <td>49.000000</td>\n",
              "      <td>1480.000000</td>\n",
              "      <td>21.000000</td>\n",
              "      <td>329.000000</td>\n",
              "      <td>3.000000</td>\n",
              "      <td>-1.000000</td>\n",
              "      <td>0.000000</td>\n",
              "    </tr>\n",
              "    <tr>\n",
              "      <th>max</th>\n",
              "      <td>87.000000</td>\n",
              "      <td>71188.000000</td>\n",
              "      <td>31.000000</td>\n",
              "      <td>3025.000000</td>\n",
              "      <td>50.000000</td>\n",
              "      <td>871.000000</td>\n",
              "      <td>25.000000</td>\n",
              "    </tr>\n",
              "  </tbody>\n",
              "</table>\n",
              "</div>"
            ]
          },
          "metadata": {},
          "execution_count": 35
        }
      ],
      "source": [
        "col_names = [name for name in psdf.dtypes.index]\n",
        "dtypes = [dtype for dtype in psdf.dtypes.tolist()]\n",
        "\n",
        "numeric_features = [name for name, dtype in zip(col_names, dtypes) if dtype == 'int32']\n",
        "\n",
        "psdf[numeric_features].describe()"
      ]
    },
    {
      "cell_type": "markdown",
      "metadata": {
        "application/vnd.databricks.v1+cell": {
          "inputWidgets": {},
          "nuid": "72534767-044a-417d-957c-ab26679b103d",
          "showTitle": false,
          "title": ""
        },
        "id": "gOBPcOPe606E"
      },
      "source": [
        "7. Run the following code to look at correlation between the numeric features.  Let's convert our Pandas on Spark Datafrane to a Pandas DataFrame using the `to_pandas()` command so that we can plot.  What do you see?"
      ]
    },
    {
      "cell_type": "code",
      "execution_count": 36,
      "metadata": {
        "application/vnd.databricks.v1+cell": {
          "inputWidgets": {},
          "nuid": "1cfda4ef-8aa3-4f69-8ca8-101d11f17e8e",
          "showTitle": false,
          "title": ""
        },
        "colab": {
          "base_uri": "https://localhost:8080/",
          "height": 575
        },
        "id": "_3iYP4Ma606E",
        "outputId": "fd3a5b37-0bc7-423e-b758-1b491ea9026a"
      },
      "outputs": [
        {
          "output_type": "stream",
          "name": "stderr",
          "text": [
            "/usr/local/lib/python3.7/dist-packages/pyspark/pandas/utils.py:975: PandasAPIOnSparkAdviceWarning: `to_pandas` loads all data into the driver's memory. It should only be used if the resulting pandas DataFrame is expected to be small.\n",
            "  warnings.warn(message, PandasAPIOnSparkAdviceWarning)\n"
          ]
        },
        {
          "output_type": "display_data",
          "data": {
            "text/plain": [
              "<Figure size 576x576 with 49 Axes>"
            ],
            "image/png": "[encoded data removed]"
          },
          "metadata": {
            "needs_background": "light"
          }
        }
      ],
      "source": [
        "# Convert Pandas on Spark DataFrame to Spark DataFrame\n",
        "numeric_data = psdf[numeric_features].to_pandas()\n",
        "\n",
        "axs = pd.plotting.scatter_matrix(numeric_data, figsize=(8, 8));\n",
        "n = len(numeric_data.columns)\n",
        "\n",
        "for i in range(n):\n",
        "    v = axs[i, 0]\n",
        "    v.yaxis.label.set_rotation(0)\n",
        "    v.yaxis.label.set_ha('right')\n",
        "    v.set_yticks(())\n",
        "    h = axs[n - 1, i]\n",
        "    h.xaxis.label.set_rotation(90)\n",
        "    h.set_xticks(())"
      ]
    },
    {
      "cell_type": "markdown",
      "metadata": {
        "application/vnd.databricks.v1+cell": {
          "inputWidgets": {},
          "nuid": "79d455fa-6ee2-4de6-b055-fece294607d9",
          "showTitle": false,
          "title": ""
        },
        "id": "oqJ0UpN7606E"
      },
      "source": [
        "There aren't any highly correlated variables, so we will keep them all for the model. It’s obvious that there aren’t highly correlated numeric variables. Therefore, we will keep all of them for the model. However, day and month columns are not really useful, so we will remove these two columns.\n",
        "\n",
        "8. Use the `.drop()` method to drop the `month` and `day` columns.\n",
        "    \n",
        "    Note that this method returns a new DataFrame, so save that result as `sdf`.\n",
        "\n",
        "    Use the `.dtypes` method to verify that `sdf` now has the correct columns."
      ]
    },
    {
      "cell_type": "code",
      "execution_count": 37,
      "metadata": {
        "application/vnd.databricks.v1+cell": {
          "inputWidgets": {},
          "nuid": "adef7a84-4270-4108-9849-ef699d0d7541",
          "showTitle": false,
          "title": ""
        },
        "colab": {
          "base_uri": "https://localhost:8080/"
        },
        "id": "BBiC1jtR606F",
        "outputId": "66783ce5-c5b1-489e-d42a-99c3f27b3411"
      },
      "outputs": [
        {
          "output_type": "execute_result",
          "data": {
            "text/plain": [
              "age           int32\n",
              "job          object\n",
              "marital      object\n",
              "education    object\n",
              "default      object\n",
              "balance       int32\n",
              "housing      object\n",
              "loan         object\n",
              "contact      object\n",
              "duration      int32\n",
              "campaign      int32\n",
              "pdays         int32\n",
              "previous      int32\n",
              "poutcome     object\n",
              "y            object\n",
              "dtype: object"
            ]
          },
          "metadata": {},
          "execution_count": 37
        }
      ],
      "source": [
        "sdf = psdf.drop(columns=['month','day'])\n",
        "sdf.dtypes"
      ]
    },
    {
      "cell_type": "markdown",
      "metadata": {
        "application/vnd.databricks.v1+cell": {
          "inputWidgets": {},
          "nuid": "dc7c7c08-3090-4609-b0b3-a5ffa6be0981",
          "showTitle": false,
          "title": ""
        },
        "id": "NaVpHgTy606F"
      },
      "source": [
        "## Part 3: Preparing Data for Machine Learning\n",
        "\n",
        "What follows is something analagous to a dataloader pipeline in Tensorflow--we're going to chain together some transformations that will convert our categorical variables into a one-hot format more amenable to training a machine learning model. The next code cell just sets this all up, but it doesn't run these transformations on our data yet."
      ]
    },
    {
      "cell_type": "markdown",
      "metadata": {
        "application/vnd.databricks.v1+cell": {
          "inputWidgets": {},
          "nuid": "72e6e744-d740-4365-b02a-cec38e4b0779",
          "showTitle": false,
          "title": ""
        },
        "id": "gO45xEZ9606F"
      },
      "source": [
        "The process includes Category Indexing, One-Hot Encoding and VectorAssembler — a feature transformer that merges multiple columns into a vector column."
      ]
    },
    {
      "cell_type": "markdown",
      "metadata": {
        "application/vnd.databricks.v1+cell": {
          "inputWidgets": {},
          "nuid": "c20c43bc-899c-46fd-8cd8-68f7faddd8b9",
          "showTitle": false,
          "title": ""
        },
        "id": "TIBGTMSU606G"
      },
      "source": [
        "The code is taken from [databricks’ official site](https://docs.databricks.com/applications/machine-learning/train-model/mllib/index.html#binary-classification-example) and it indexes each categorical column using the StringIndexer, then converts the indexed categories into one-hot encoded variables. The resulting output has the binary vectors appended to the end of each row. We use the StringIndexer again to encode our labels to label indices. Next, we use the VectorAssembler to combine all the feature columns into a single vector column."
      ]
    },
    {
      "cell_type": "markdown",
      "metadata": {
        "id": "q5Zs_fki606G"
      },
      "source": [
        "1. Complete the code by completing the assignment of `assembler`. Use `VectorAssembler` and pass in `assemblerInputs` as `inputCols` and name the `outputCol` `\"features\"`."
      ]
    },
    {
      "cell_type": "code",
      "execution_count": 38,
      "metadata": {
        "application/vnd.databricks.v1+cell": {
          "inputWidgets": {},
          "nuid": "2f4b6f3b-a25b-4c93-ae7b-d9fcf8d451df",
          "showTitle": false,
          "title": ""
        },
        "id": "beyBChtD606G"
      },
      "outputs": [],
      "source": [
        "from pyspark.ml.feature import OneHotEncoder , StringIndexer, VectorAssembler\n",
        "\n",
        "categoricalColumns = ['job', 'marital', 'education', 'default', 'housing', 'loan', 'contact', 'poutcome']\n",
        "stages = []\n",
        "\n",
        "for categoricalCol in categoricalColumns:\n",
        "    stringIndexer = StringIndexer(inputCol = categoricalCol, outputCol = categoricalCol + 'Index')\n",
        "    encoder = OneHotEncoder(inputCols=[stringIndexer.getOutputCol()], outputCols=[categoricalCol + \"classVec\"])\n",
        "    stages += [stringIndexer, encoder]\n",
        "\n",
        "label_stringIdx = StringIndexer(inputCol = 'y', outputCol = 'label')\n",
        "stages += [label_stringIdx]\n",
        "numericCols = ['age', 'balance', 'duration', 'campaign', 'pdays', 'previous']\n",
        "assemblerInputs = [c + \"classVec\" for c in categoricalColumns] + numericCols\n",
        "assembler = VectorAssembler(inputCols=assemblerInputs, outputCol='features')\n",
        "stages += [assembler]"
      ]
    },
    {
      "cell_type": "markdown",
      "metadata": {
        "application/vnd.databricks.v1+cell": {
          "inputWidgets": {},
          "nuid": "0a430a65-f90a-4941-8476-7497416dd0b8",
          "showTitle": false,
          "title": ""
        },
        "id": "gsTuJQBk606G"
      },
      "source": [
        "## Part 4: Pipeline"
      ]
    },
    {
      "cell_type": "markdown",
      "metadata": {
        "application/vnd.databricks.v1+cell": {
          "inputWidgets": {},
          "nuid": "e6191ae8-826c-405c-835b-85ccde4ed00d",
          "showTitle": false,
          "title": ""
        },
        "id": "mDNzrSSr606H"
      },
      "source": [
        "We use Pipeline to chain multiple Transformers and Estimators together to specify our machine learning workflow. A Pipeline’s stages are specified as an ordered array.  So that we can run the pipeline on our Pandas on Spark DataFrame, we will convert it back to a Spark DataFrame using the **`to_spark()`** command\n",
        "\n",
        "1. Fit a pipeline on df."
      ]
    },
    {
      "cell_type": "code",
      "execution_count": 39,
      "metadata": {
        "application/vnd.databricks.v1+cell": {
          "inputWidgets": {},
          "nuid": "30265e83-c80c-4144-a25b-b140b1fcc244",
          "showTitle": false,
          "title": ""
        },
        "colab": {
          "base_uri": "https://localhost:8080/"
        },
        "id": "5cUIirqy606H",
        "outputId": "32c1ee71-f592-478b-9db9-6250a756e792"
      },
      "outputs": [
        {
          "output_type": "stream",
          "name": "stderr",
          "text": [
            "/usr/local/lib/python3.7/dist-packages/pyspark/pandas/utils.py:975: PandasAPIOnSparkAdviceWarning: If `index_col` is not specified for `to_spark`, the existing index is lost when converting to Spark DataFrame.\n",
            "  warnings.warn(message, PandasAPIOnSparkAdviceWarning)\n"
          ]
        }
      ],
      "source": [
        "from pyspark.ml import Pipeline\n",
        "sdf = psdf.to_spark()\n",
        "pipeline = Pipeline(stages=stages)\n",
        "\n",
        "pipelineModel = pipeline.fit(df)"
      ]
    },
    {
      "cell_type": "markdown",
      "metadata": {
        "id": "FN6xXah5606H"
      },
      "source": [
        "2. Transform `pipelineModel` on `df` and assign this to variable `transformed_df`."
      ]
    },
    {
      "cell_type": "code",
      "execution_count": 40,
      "metadata": {
        "colab": {
          "base_uri": "https://localhost:8080/"
        },
        "id": "QTsKIGt1606H",
        "outputId": "7301550a-18b8-45f8-b9da-3056d5c65f1c"
      },
      "outputs": [
        {
          "output_type": "stream",
          "name": "stdout",
          "text": [
            "root\n",
            " |-- age: integer (nullable = true)\n",
            " |-- job: string (nullable = true)\n",
            " |-- marital: string (nullable = true)\n",
            " |-- education: string (nullable = true)\n",
            " |-- default: string (nullable = true)\n",
            " |-- balance: integer (nullable = true)\n",
            " |-- housing: string (nullable = true)\n",
            " |-- loan: string (nullable = true)\n",
            " |-- contact: string (nullable = true)\n",
            " |-- day: integer (nullable = true)\n",
            " |-- month: string (nullable = true)\n",
            " |-- duration: integer (nullable = true)\n",
            " |-- campaign: integer (nullable = true)\n",
            " |-- pdays: integer (nullable = true)\n",
            " |-- previous: integer (nullable = true)\n",
            " |-- poutcome: string (nullable = true)\n",
            " |-- y: string (nullable = true)\n",
            " |-- jobIndex: double (nullable = false)\n",
            " |-- jobclassVec: vector (nullable = true)\n",
            " |-- maritalIndex: double (nullable = false)\n",
            " |-- maritalclassVec: vector (nullable = true)\n",
            " |-- educationIndex: double (nullable = false)\n",
            " |-- educationclassVec: vector (nullable = true)\n",
            " |-- defaultIndex: double (nullable = false)\n",
            " |-- defaultclassVec: vector (nullable = true)\n",
            " |-- housingIndex: double (nullable = false)\n",
            " |-- housingclassVec: vector (nullable = true)\n",
            " |-- loanIndex: double (nullable = false)\n",
            " |-- loanclassVec: vector (nullable = true)\n",
            " |-- contactIndex: double (nullable = false)\n",
            " |-- contactclassVec: vector (nullable = true)\n",
            " |-- poutcomeIndex: double (nullable = false)\n",
            " |-- poutcomeclassVec: vector (nullable = true)\n",
            " |-- label: double (nullable = false)\n",
            " |-- features: vector (nullable = true)\n",
            "\n"
          ]
        }
      ],
      "source": [
        "transformed_df = pipelineModel.transform(df)\n",
        "transformed_df.printSchema()"
      ]
    },
    {
      "cell_type": "markdown",
      "metadata": {
        "id": "fS3OQX0p606H"
      },
      "source": [
        "From the transformation, we'd like to take the `label` and `features` columns as well as the original columns from `sdf.`\n",
        "\n",
        "3. Use the `.select()` method to pull these columns from the `transformed_df` and reassign the resulting DataFrame to `sdf`."
      ]
    },
    {
      "cell_type": "code",
      "execution_count": 41,
      "metadata": {
        "colab": {
          "base_uri": "https://localhost:8080/"
        },
        "id": "OWLr2mo0606I",
        "outputId": "31c33fa2-0705-45a0-f37b-a5088a444457"
      },
      "outputs": [
        {
          "output_type": "stream",
          "name": "stdout",
          "text": [
            "root\n",
            " |-- label: double (nullable = false)\n",
            " |-- features: vector (nullable = true)\n",
            " |-- age: integer (nullable = true)\n",
            " |-- job: string (nullable = true)\n",
            " |-- marital: string (nullable = true)\n",
            " |-- education: string (nullable = true)\n",
            " |-- default: string (nullable = true)\n",
            " |-- balance: integer (nullable = true)\n",
            " |-- housing: string (nullable = true)\n",
            " |-- loan: string (nullable = true)\n",
            " |-- contact: string (nullable = true)\n",
            " |-- day: integer (nullable = true)\n",
            " |-- month: string (nullable = true)\n",
            " |-- duration: integer (nullable = true)\n",
            " |-- campaign: integer (nullable = true)\n",
            " |-- pdays: integer (nullable = true)\n",
            " |-- previous: integer (nullable = true)\n",
            " |-- poutcome: string (nullable = true)\n",
            " |-- y: string (nullable = true)\n",
            "\n"
          ]
        }
      ],
      "source": [
        "selectedCols = ['label', 'features'] + sdf.columns\n",
        "sdf = transformed_df.select(selectedCols)\n",
        "sdf.printSchema()"
      ]
    },
    {
      "cell_type": "markdown",
      "metadata": {
        "id": "rCA4o74C606I"
      },
      "source": [
        "4. Let's view the first five rows of the `sdf` DataFrame using the methods we learned in Part 2:\n",
        "    * `.show()` method\n",
        "    * `.take()` method and convert result to a Pandas DataFrame"
      ]
    },
    {
      "cell_type": "code",
      "execution_count": 42,
      "metadata": {
        "application/vnd.databricks.v1+cell": {
          "inputWidgets": {},
          "nuid": "b177c7ee-96a4-4340-952b-e02cb46faf25",
          "showTitle": false,
          "title": ""
        },
        "colab": {
          "base_uri": "https://localhost:8080/",
          "height": 1000
        },
        "id": "rUnHgPSY606I",
        "outputId": "62cf3c96-5934-4586-a135-a754997125e5"
      },
      "outputs": [
        {
          "output_type": "stream",
          "name": "stdout",
          "text": [
            "+-----+--------------------+---+----------+--------+---------+-------+-------+-------+----+---------+---+-----+--------+--------+-----+--------+--------+---+\n",
            "|label|            features|age|       job| marital|education|default|balance|housing|loan|  contact|day|month|duration|campaign|pdays|previous|poutcome|  y|\n",
            "+-----+--------------------+---+----------+--------+---------+-------+-------+-------+----+---------+---+-----+--------+--------+-----+--------+--------+---+\n",
            "|  0.0|(30,[0,12,14,16,1...| 35|management|  single| tertiary|     no|   1350|    yes|  no| cellular| 16|  apr|     185|       1|  330|       1| failure| no|\n",
            "|  0.0|(30,[0,11,14,16,1...| 30|management| married| tertiary|     no|   1476|    yes| yes|  unknown|  3|  jun|     199|       4|   -1|       0| unknown| no|\n",
            "|  0.0|(30,[0,12,14,16,1...| 35|management|  single| tertiary|     no|    747|     no|  no| cellular| 23|  feb|     141|       2|  176|       3| failure| no|\n",
            "|  0.0|(30,[0,11,14,16,1...| 40|management| married| tertiary|     no|    194|     no| yes| cellular| 29|  aug|     189|       2|   -1|       0| unknown| no|\n",
            "|  0.0|(30,[0,16,17,18,1...| 38|management|divorced|  unknown|     no|      0|    yes|  no| cellular| 18|  nov|      96|       2|   -1|       0| unknown| no|\n",
            "|  0.0|(30,[0,14,16,18,1...| 42|management|divorced| tertiary|     no|     16|     no|  no| cellular| 19|  nov|     140|       3|   -1|       0| unknown| no|\n",
            "|  0.0|(30,[0,11,14,16,1...| 41|management| married| tertiary|     no|   5883|     no|  no| cellular| 20|  nov|     182|       2|   -1|       0| unknown| no|\n",
            "|  0.0|(30,[0,11,13,16,1...| 59|management| married|secondary|     no|     42|     no|  no| cellular| 21|  nov|      40|       1|   -1|       0| unknown| no|\n",
            "|  1.0|(30,[0,12,14,16,1...| 32|management|  single| tertiary|     no|   2536|    yes|  no| cellular| 26|  aug|     958|       6|   -1|       0| unknown|yes|\n",
            "|  1.0|(30,[0,11,13,16,1...| 33|management| married|secondary|     no|   3935|    yes|  no| cellular|  6|  may|     765|       1|  342|       2| failure|yes|\n",
            "|  0.0|(30,[0,12,14,16,1...| 38|management|  single| tertiary|     no|  11971|    yes|  no|  unknown| 17|  nov|     609|       2|  101|       3| failure| no|\n",
            "|  0.0|(30,[0,12,14,16,1...| 36|management|  single| tertiary|     no|    553|     no|  no| cellular| 11|  aug|     106|       2|   -1|       0| unknown| no|\n",
            "|  0.0|(30,[0,12,14,16,1...| 34|management|  single| tertiary|     no|    872|    yes|  no|  unknown|  7|  may|     105|       2|   -1|       0| unknown| no|\n",
            "|  0.0|(30,[0,11,13,16,2...| 57|management| married|secondary|     no|     82|     no| yes|telephone|  4|  feb|     140|       1|   -1|       0| unknown| no|\n",
            "|  0.0|(30,[0,11,14,16,1...| 48|management| married| tertiary|     no|   5887|     no|  no| cellular| 13|  aug|     227|       2|   -1|       0| unknown| no|\n",
            "|  0.0|(30,[0,11,13,16,1...| 41|management| married|secondary|     no|      0|     no| yes| cellular|  7|  jul|     630|       3|   -1|       0| unknown| no|\n",
            "|  1.0|(30,[0,11,14,16,1...| 37|management| married| tertiary|     no|      0|     no|  no| cellular| 16|  jul|     268|       2|  182|       3| success|yes|\n",
            "|  0.0|(30,[0,12,14,16,1...| 31|management|  single| tertiary|     no|   6248|    yes|  no|  unknown|  9|  may|     154|       2|   -1|       0| unknown| no|\n",
            "|  0.0|(30,[0,14,16,18,1...| 54|management|divorced| tertiary|     no|   3222|     no|  no| cellular| 14|  aug|      67|       2|   -1|       0| unknown| no|\n",
            "|  1.0|(30,[0,11,14,16,1...| 37|management| married| tertiary|     no|   1315|     no|  no| cellular| 30|  jun|     224|       1|   -1|       0| unknown|yes|\n",
            "+-----+--------------------+---+----------+--------+---------+-------+-------+-------+----+---------+---+-----+--------+--------+-----+--------+--------+---+\n",
            "only showing top 20 rows\n",
            "\n"
          ]
        },
        {
          "output_type": "execute_result",
          "data": {
            "text/plain": [
              "   label                                           features  age         job  \\\n",
              "0    0.0  (1.0, 0.0, 0.0, 0.0, 0.0, 0.0, 0.0, 0.0, 0.0, ...   35  management   \n",
              "1    0.0  (1.0, 0.0, 0.0, 0.0, 0.0, 0.0, 0.0, 0.0, 0.0, ...   30  management   \n",
              "2    0.0  (1.0, 0.0, 0.0, 0.0, 0.0, 0.0, 0.0, 0.0, 0.0, ...   35  management   \n",
              "3    0.0  (1.0, 0.0, 0.0, 0.0, 0.0, 0.0, 0.0, 0.0, 0.0, ...   40  management   \n",
              "4    0.0  (1.0, 0.0, 0.0, 0.0, 0.0, 0.0, 0.0, 0.0, 0.0, ...   38  management   \n",
              "\n",
              "    marital education default  balance housing loan   contact  day month  \\\n",
              "0    single  tertiary      no     1350     yes   no  cellular   16   apr   \n",
              "1   married  tertiary      no     1476     yes  yes   unknown    3   jun   \n",
              "2    single  tertiary      no      747      no   no  cellular   23   feb   \n",
              "3   married  tertiary      no      194      no  yes  cellular   29   aug   \n",
              "4  divorced   unknown      no        0     yes   no  cellular   18   nov   \n",
              "\n",
              "   duration  campaign  pdays  previous poutcome   y  \n",
              "0       185         1    330         1  failure  no  \n",
              "1       199         4     -1         0  unknown  no  \n",
              "2       141         2    176         3  failure  no  \n",
              "3       189         2     -1         0  unknown  no  \n",
              "4        96         2     -1         0  unknown  no  "
            ],
            "text/html": [
              "\n",
              "  <div id=\"df-32adeb6d-ab6a-4476-8102-7481f1a805f4\">\n",
              "    <div class=\"colab-df-container\">\n",
              "      <div>\n",
              "<style scoped>\n",
              "    .dataframe tbody tr th:only-of-type {\n",
              "        vertical-align: middle;\n",
              "    }\n",
              "\n",
              "    .dataframe tbody tr th {\n",
              "        vertical-align: top;\n",
              "    }\n",
              "\n",
              "    .dataframe thead th {\n",
              "        text-align: right;\n",
              "    }\n",
              "</style>\n",
              "<table border=\"1\" class=\"dataframe\">\n",
              "  <thead>\n",
              "    <tr style=\"text-align: right;\">\n",
              "      <th></th>\n",
              "      <th>label</th>\n",
              "      <th>features</th>\n",
              "      <th>age</th>\n",
              "      <th>job</th>\n",
              "      <th>marital</th>\n",
              "      <th>education</th>\n",
              "      <th>default</th>\n",
              "      <th>balance</th>\n",
              "      <th>housing</th>\n",
              "      <th>loan</th>\n",
              "      <th>contact</th>\n",
              "      <th>day</th>\n",
              "      <th>month</th>\n",
              "      <th>duration</th>\n",
              "      <th>campaign</th>\n",
              "      <th>pdays</th>\n",
              "      <th>previous</th>\n",
              "      <th>poutcome</th>\n",
              "      <th>y</th>\n",
              "    </tr>\n",
              "  </thead>\n",
              "  <tbody>\n",
              "    <tr>\n",
              "      <th>0</th>\n",
              "      <td>0.0</td>\n",
              "      <td>(1.0, 0.0, 0.0, 0.0, 0.0, 0.0, 0.0, 0.0, 0.0, ...</td>\n",
              "      <td>35</td>\n",
              "      <td>management</td>\n",
              "      <td>single</td>\n",
              "      <td>tertiary</td>\n",
              "      <td>no</td>\n",
              "      <td>1350</td>\n",
              "      <td>yes</td>\n",
              "      <td>no</td>\n",
              "      <td>cellular</td>\n",
              "      <td>16</td>\n",
              "      <td>apr</td>\n",
              "      <td>185</td>\n",
              "      <td>1</td>\n",
              "      <td>330</td>\n",
              "      <td>1</td>\n",
              "      <td>failure</td>\n",
              "      <td>no</td>\n",
              "    </tr>\n",
              "    <tr>\n",
              "      <th>1</th>\n",
              "      <td>0.0</td>\n",
              "      <td>(1.0, 0.0, 0.0, 0.0, 0.0, 0.0, 0.0, 0.0, 0.0, ...</td>\n",
              "      <td>30</td>\n",
              "      <td>management</td>\n",
              "      <td>married</td>\n",
              "      <td>tertiary</td>\n",
              "      <td>no</td>\n",
              "      <td>1476</td>\n",
              "      <td>yes</td>\n",
              "      <td>yes</td>\n",
              "      <td>unknown</td>\n",
              "      <td>3</td>\n",
              "      <td>jun</td>\n",
              "      <td>199</td>\n",
              "      <td>4</td>\n",
              "      <td>-1</td>\n",
              "      <td>0</td>\n",
              "      <td>unknown</td>\n",
              "      <td>no</td>\n",
              "    </tr>\n",
              "    <tr>\n",
              "      <th>2</th>\n",
              "      <td>0.0</td>\n",
              "      <td>(1.0, 0.0, 0.0, 0.0, 0.0, 0.0, 0.0, 0.0, 0.0, ...</td>\n",
              "      <td>35</td>\n",
              "      <td>management</td>\n",
              "      <td>single</td>\n",
              "      <td>tertiary</td>\n",
              "      <td>no</td>\n",
              "      <td>747</td>\n",
              "      <td>no</td>\n",
              "      <td>no</td>\n",
              "      <td>cellular</td>\n",
              "      <td>23</td>\n",
              "      <td>feb</td>\n",
              "      <td>141</td>\n",
              "      <td>2</td>\n",
              "      <td>176</td>\n",
              "      <td>3</td>\n",
              "      <td>failure</td>\n",
              "      <td>no</td>\n",
              "    </tr>\n",
              "    <tr>\n",
              "      <th>3</th>\n",
              "      <td>0.0</td>\n",
              "      <td>(1.0, 0.0, 0.0, 0.0, 0.0, 0.0, 0.0, 0.0, 0.0, ...</td>\n",
              "      <td>40</td>\n",
              "      <td>management</td>\n",
              "      <td>married</td>\n",
              "      <td>tertiary</td>\n",
              "      <td>no</td>\n",
              "      <td>194</td>\n",
              "      <td>no</td>\n",
              "      <td>yes</td>\n",
              "      <td>cellular</td>\n",
              "      <td>29</td>\n",
              "      <td>aug</td>\n",
              "      <td>189</td>\n",
              "      <td>2</td>\n",
              "      <td>-1</td>\n",
              "      <td>0</td>\n",
              "      <td>unknown</td>\n",
              "      <td>no</td>\n",
              "    </tr>\n",
              "    <tr>\n",
              "      <th>4</th>\n",
              "      <td>0.0</td>\n",
              "      <td>(1.0, 0.0, 0.0, 0.0, 0.0, 0.0, 0.0, 0.0, 0.0, ...</td>\n",
              "      <td>38</td>\n",
              "      <td>management</td>\n",
              "      <td>divorced</td>\n",
              "      <td>unknown</td>\n",
              "      <td>no</td>\n",
              "      <td>0</td>\n",
              "      <td>yes</td>\n",
              "      <td>no</td>\n",
              "      <td>cellular</td>\n",
              "      <td>18</td>\n",
              "      <td>nov</td>\n",
              "      <td>96</td>\n",
              "      <td>2</td>\n",
              "      <td>-1</td>\n",
              "      <td>0</td>\n",
              "      <td>unknown</td>\n",
              "      <td>no</td>\n",
              "    </tr>\n",
              "  </tbody>\n",
              "</table>\n",
              "</div>\n",
              "      <button class=\"colab-df-convert\" onclick=\"convertToInteractive('df-32adeb6d-ab6a-4476-8102-7481f1a805f4')\"\n",
              "              title=\"Convert this dataframe to an interactive table.\"\n",
              "              style=\"display:none;\">\n",
              "        \n",
              "  <svg xmlns=\"http://www.w3.org/2000/svg\" height=\"24px\"viewBox=\"0 0 24 24\"\n",
              "       width=\"24px\">\n",
              "    <path d=\"M0 0h24v24H0V0z\" fill=\"none\"/>\n",
              "    <path d=\"M18.56 5.44l.94 2.06.94-2.06 2.06-.94-2.06-.94-.94-2.06-.94 2.06-2.06.94zm-11 1L8.5 8.5l.94-2.06 2.06-.94-2.06-.94L8.5 2.5l-.94 2.06-2.06.94zm10 10l.94 2.06.94-2.06 2.06-.94-2.06-.94-.94-2.06-.94 2.06-2.06.94z\"/><path d=\"M17.41 7.96l-1.37-1.37c-.4-.4-.92-.59-1.43-.59-.52 0-1.04.2-1.43.59L10.3 9.45l-7.72 7.72c-.78.78-.78 2.05 0 2.83L4 21.41c.39.39.9.59 1.41.59.51 0 1.02-.2 1.41-.59l7.78-7.78 2.81-2.81c.8-.78.8-2.07 0-2.86zM5.41 20L4 18.59l7.72-7.72 1.47 1.35L5.41 20z\"/>\n",
              "  </svg>\n",
              "      </button>\n",
              "      \n",
              "  <style>\n",
              "    .colab-df-container {\n",
              "      display:flex;\n",
              "      flex-wrap:wrap;\n",
              "      gap: 12px;\n",
              "    }\n",
              "\n",
              "    .colab-df-convert {\n",
              "      background-color: #E8F0FE;\n",
              "      border: none;\n",
              "      border-radius: 50%;\n",
              "      cursor: pointer;\n",
              "      display: none;\n",
              "      fill: #1967D2;\n",
              "      height: 32px;\n",
              "      padding: 0 0 0 0;\n",
              "      width: 32px;\n",
              "    }\n",
              "\n",
              "    .colab-df-convert:hover {\n",
              "      background-color: #E2EBFA;\n",
              "      box-shadow: 0px 1px 2px rgba(60, 64, 67, 0.3), 0px 1px 3px 1px rgba(60, 64, 67, 0.15);\n",
              "      fill: #174EA6;\n",
              "    }\n",
              "\n",
              "    [theme=dark] .colab-df-convert {\n",
              "      background-color: #3B4455;\n",
              "      fill: #D2E3FC;\n",
              "    }\n",
              "\n",
              "    [theme=dark] .colab-df-convert:hover {\n",
              "      background-color: #434B5C;\n",
              "      box-shadow: 0px 1px 3px 1px rgba(0, 0, 0, 0.15);\n",
              "      filter: drop-shadow(0px 1px 2px rgba(0, 0, 0, 0.3));\n",
              "      fill: #FFFFFF;\n",
              "    }\n",
              "  </style>\n",
              "\n",
              "      <script>\n",
              "        const buttonEl =\n",
              "          document.querySelector('#df-32adeb6d-ab6a-4476-8102-7481f1a805f4 button.colab-df-convert');\n",
              "        buttonEl.style.display =\n",
              "          google.colab.kernel.accessAllowed ? 'block' : 'none';\n",
              "\n",
              "        async function convertToInteractive(key) {\n",
              "          const element = document.querySelector('#df-32adeb6d-ab6a-4476-8102-7481f1a805f4');\n",
              "          const dataTable =\n",
              "            await google.colab.kernel.invokeFunction('convertToInteractive',\n",
              "                                                     [key], {});\n",
              "          if (!dataTable) return;\n",
              "\n",
              "          const docLinkHtml = 'Like what you see? Visit the ' +\n",
              "            '<a target=\"_blank\" href=https://colab.research.google.com/notebooks/data_table.ipynb>data table notebook</a>'\n",
              "            + ' to learn more about interactive tables.';\n",
              "          element.innerHTML = '';\n",
              "          dataTable['output_type'] = 'display_data';\n",
              "          await google.colab.output.renderOutput(dataTable, element);\n",
              "          const docLink = document.createElement('div');\n",
              "          docLink.innerHTML = docLinkHtml;\n",
              "          element.appendChild(docLink);\n",
              "        }\n",
              "      </script>\n",
              "    </div>\n",
              "  </div>\n",
              "  "
            ]
          },
          "metadata": {},
          "execution_count": 42
        }
      ],
      "source": [
        "sdf.show()\n",
        "pd.DataFrame(sdf.take(5), columns=sdf.columns)"
      ]
    },
    {
      "cell_type": "markdown",
      "metadata": {
        "id": "NgtkTLyN606I"
      },
      "source": [
        "5. Randomly split the dataset in training and test sets, with 70% of the data in the training set and the remaining 30% in the test set.\n",
        "\n",
        "    Hint: Call the `.randomSplit()` method."
      ]
    },
    {
      "cell_type": "code",
      "execution_count": 43,
      "metadata": {
        "application/vnd.databricks.v1+cell": {
          "inputWidgets": {},
          "nuid": "b4798af7-e77f-4ebb-891f-c814799f8618",
          "showTitle": false,
          "title": ""
        },
        "id": "pOV9t-nj606I"
      },
      "outputs": [],
      "source": [
        "train, test = sdf.randomSplit([0.7,0.3])"
      ]
    },
    {
      "cell_type": "markdown",
      "metadata": {
        "id": "ch88ygkE606J"
      },
      "source": [
        "6. What are the sizes of the training and test sets?"
      ]
    },
    {
      "cell_type": "code",
      "execution_count": 45,
      "metadata": {
        "id": "qYQ9e6Ha606J",
        "colab": {
          "base_uri": "https://localhost:8080/"
        },
        "outputId": "ac9cab7e-6b14-43b0-e8f0-10513085a756"
      },
      "outputs": [
        {
          "output_type": "execute_result",
          "data": {
            "text/plain": [
              "(3135, 1386)"
            ]
          },
          "metadata": {},
          "execution_count": 45
        }
      ],
      "source": [
        "train.count(), test.count()"
      ]
    },
    {
      "cell_type": "markdown",
      "metadata": {
        "application/vnd.databricks.v1+cell": {
          "inputWidgets": {},
          "nuid": "42af67c4-7257-40f0-8219-069494123190",
          "showTitle": false,
          "title": ""
        },
        "id": "IWNVbqgU606J"
      },
      "source": [
        "## Part 5: Logistic Regression Model\n",
        "\n",
        "- You can build a RandomForestClassifier with : from pyspark.ml.classification import RandomForestClassifier\n",
        "- You can build a Gradient-Boosted Tree Classifier with : from pyspark.ml.classification import GBTClassifier\n",
        "\n",
        "1. Fit a LogisticRegression with `featuresCol` as `\"features\"`, `labelCol` as `\"label\"` and a `maxIter` of 10."
      ]
    },
    {
      "cell_type": "code",
      "execution_count": 46,
      "metadata": {
        "application/vnd.databricks.v1+cell": {
          "inputWidgets": {},
          "nuid": "45df93be-c36f-4b6c-8393-13e39311e218",
          "showTitle": false,
          "title": ""
        },
        "id": "7StSP1Jv606J"
      },
      "outputs": [],
      "source": [
        "from pyspark.ml.classification import LogisticRegression\n",
        "\n",
        "lr = LogisticRegression(featuresCol='features', labelCol='label', maxIter=10)\n",
        "lrModel= lr.fit(train)"
      ]
    },
    {
      "cell_type": "markdown",
      "metadata": {
        "application/vnd.databricks.v1+cell": {
          "inputWidgets": {},
          "nuid": "eb297027-929c-4637-8ed2-64bff31e1fd4",
          "showTitle": false,
          "title": ""
        },
        "id": "OMSgeFA1606J"
      },
      "source": [
        "2. We can obtain the coefficients by using LogisticRegressionModel’s attributes. Look at the following plot of the beta coefficients."
      ]
    },
    {
      "cell_type": "code",
      "execution_count": 47,
      "metadata": {
        "application/vnd.databricks.v1+cell": {
          "inputWidgets": {},
          "nuid": "c1766292-117f-4ea2-89fe-2c62612a600b",
          "showTitle": false,
          "title": ""
        },
        "id": "bh28ROSu606J",
        "colab": {
          "base_uri": "https://localhost:8080/",
          "height": 265
        },
        "outputId": "a917febe-6a83-4896-8cff-730b23fbf2c7"
      },
      "outputs": [
        {
          "output_type": "display_data",
          "data": {
            "text/plain": [
              "<Figure size 432x288 with 1 Axes>"
            ],
            "image/png": "[encoded data removed]"
          },
          "metadata": {
            "needs_background": "light"
          }
        }
      ],
      "source": [
        "import matplotlib.pyplot as plt\n",
        "import numpy as np\n",
        "beta = np.sort(lrModel.coefficients)\n",
        "plt.plot(beta)\n",
        "plt.ylabel('Beta Coefficients')\n",
        "plt.show()"
      ]
    },
    {
      "cell_type": "markdown",
      "metadata": {
        "application/vnd.databricks.v1+cell": {
          "inputWidgets": {},
          "nuid": "a850fb0a-0d4d-4f58-8c23-2aea0db2f3f1",
          "showTitle": false,
          "title": ""
        },
        "id": "K3hE2Ja2606K"
      },
      "source": [
        "3. Use the `.transform()` method to make predictions and save them as `predictions`."
      ]
    },
    {
      "cell_type": "code",
      "execution_count": 48,
      "metadata": {
        "application/vnd.databricks.v1+cell": {
          "inputWidgets": {},
          "nuid": "cdf395d5-b7ef-4f5a-8a32-f1eb76b59122",
          "showTitle": false,
          "title": ""
        },
        "id": "9X_xoxnF606K"
      },
      "outputs": [],
      "source": [
        "predictions = lrModel.transform(test)"
      ]
    },
    {
      "cell_type": "markdown",
      "metadata": {
        "id": "NIXVUZLv606K"
      },
      "source": [
        "4. View the first 10 rows of the `predictions` DataFrame."
      ]
    },
    {
      "cell_type": "code",
      "execution_count": 49,
      "metadata": {
        "id": "1AD_mkwl606K",
        "colab": {
          "base_uri": "https://localhost:8080/"
        },
        "outputId": "c5a74fba-8266-4a40-ec46-df8acd7d5af6"
      },
      "outputs": [
        {
          "output_type": "execute_result",
          "data": {
            "text/plain": [
              "[Row(label=0.0, features=SparseVector(30, {0: 1.0, 11: 1.0, 13: 1.0, 16: 1.0, 17: 1.0, 18: 1.0, 19: 1.0, 21: 1.0, 24: 31.0, 25: 466.0, 26: 164.0, 27: 1.0, 28: -1.0}), age=31, job='management', marital='married', education='secondary', default='no', balance=466, housing='yes', loan='no', contact='cellular', day=14, month='may', duration=164, campaign=1, pdays=-1, previous=0, poutcome='unknown', y='no', rawPrediction=DenseVector([2.922, -2.922]), probability=DenseVector([0.9489, 0.0511]), prediction=0.0),\n",
              " Row(label=0.0, features=SparseVector(30, {0: 1.0, 11: 1.0, 13: 1.0, 16: 1.0, 17: 1.0, 18: 1.0, 19: 1.0, 21: 1.0, 24: 33.0, 25: 11.0, 26: 104.0, 27: 3.0, 28: -1.0}), age=33, job='management', marital='married', education='secondary', default='no', balance=11, housing='yes', loan='no', contact='cellular', day=4, month='may', duration=104, campaign=3, pdays=-1, previous=0, poutcome='unknown', y='no', rawPrediction=DenseVector([3.3153, -3.3153]), probability=DenseVector([0.9649, 0.0351]), prediction=0.0),\n",
              " Row(label=0.0, features=SparseVector(30, {0: 1.0, 11: 1.0, 13: 1.0, 16: 1.0, 17: 1.0, 18: 1.0, 19: 1.0, 21: 1.0, 24: 34.0, 25: 857.0, 26: 238.0, 27: 6.0, 28: -1.0}), age=34, job='management', marital='married', education='secondary', default='no', balance=857, housing='yes', loan='no', contact='cellular', day=22, month='aug', duration=238, campaign=6, pdays=-1, previous=0, poutcome='unknown', y='no', rawPrediction=DenseVector([3.0084, -3.0084]), probability=DenseVector([0.953, 0.047]), prediction=0.0),\n",
              " Row(label=0.0, features=SparseVector(30, {0: 1.0, 11: 1.0, 13: 1.0, 16: 1.0, 17: 1.0, 18: 1.0, 19: 1.0, 21: 1.0, 24: 34.0, 25: 1007.0, 26: 240.0, 27: 2.0, 28: -1.0}), age=34, job='management', marital='married', education='secondary', default='no', balance=1007, housing='yes', loan='no', contact='cellular', day=21, month='jul', duration=240, campaign=2, pdays=-1, previous=0, poutcome='unknown', y='no', rawPrediction=DenseVector([2.6945, -2.6945]), probability=DenseVector([0.9367, 0.0633]), prediction=0.0),\n",
              " Row(label=0.0, features=SparseVector(30, {0: 1.0, 11: 1.0, 13: 1.0, 16: 1.0, 17: 1.0, 18: 1.0, 19: 1.0, 21: 1.0, 24: 42.0, 25: -105.0, 26: 60.0, 27: 2.0, 28: -1.0}), age=42, job='management', marital='married', education='secondary', default='no', balance=-105, housing='yes', loan='no', contact='cellular', day=28, month='aug', duration=60, campaign=2, pdays=-1, previous=0, poutcome='unknown', y='no', rawPrediction=DenseVector([3.4154, -3.4154]), probability=DenseVector([0.9682, 0.0318]), prediction=0.0),\n",
              " Row(label=0.0, features=SparseVector(30, {0: 1.0, 11: 1.0, 13: 1.0, 16: 1.0, 17: 1.0, 18: 1.0, 19: 1.0, 21: 1.0, 24: 51.0, 25: 3180.0, 26: 384.0, 27: 1.0, 28: -1.0}), age=51, job='management', marital='married', education='secondary', default='no', balance=3180, housing='yes', loan='no', contact='cellular', day=9, month='jul', duration=384, campaign=1, pdays=-1, previous=0, poutcome='unknown', y='no', rawPrediction=DenseVector([2.0463, -2.0463]), probability=DenseVector([0.8856, 0.1144]), prediction=0.0),\n",
              " Row(label=0.0, features=SparseVector(30, {0: 1.0, 11: 1.0, 13: 1.0, 16: 1.0, 17: 1.0, 18: 1.0, 19: 1.0, 21: 1.0, 24: 60.0, 25: 725.0, 26: 266.0, 27: 1.0, 28: -1.0}), age=60, job='management', marital='married', education='secondary', default='no', balance=725, housing='yes', loan='no', contact='cellular', day=8, month='jul', duration=266, campaign=1, pdays=-1, previous=0, poutcome='unknown', y='no', rawPrediction=DenseVector([2.5113, -2.5113]), probability=DenseVector([0.9249, 0.0751]), prediction=0.0),\n",
              " Row(label=0.0, features=SparseVector(30, {0: 1.0, 11: 1.0, 13: 1.0, 16: 1.0, 17: 1.0, 18: 1.0, 19: 1.0, 21: 1.0, 24: 39.0, 26: 63.0, 27: 3.0, 28: -1.0}), age=39, job='management', marital='married', education='secondary', default='no', balance=0, housing='yes', loan='no', contact='cellular', day=27, month='aug', duration=63, campaign=3, pdays=-1, previous=0, poutcome='unknown', y='no', rawPrediction=DenseVector([3.4804, -3.4804]), probability=DenseVector([0.9701, 0.0299]), prediction=0.0),\n",
              " Row(label=0.0, features=SparseVector(30, {0: 1.0, 11: 1.0, 13: 1.0, 16: 1.0, 17: 1.0, 18: 1.0, 19: 1.0, 22: 1.0, 24: 31.0, 25: 625.0, 26: 424.0, 27: 1.0, 28: 138.0, 29: 1.0}), age=31, job='management', marital='married', education='secondary', default='no', balance=625, housing='yes', loan='no', contact='cellular', day=7, month='apr', duration=424, campaign=1, pdays=138, previous=1, poutcome='failure', y='no', rawPrediction=DenseVector([1.6327, -1.6327]), probability=DenseVector([0.8365, 0.1635]), prediction=0.0),\n",
              " Row(label=0.0, features=SparseVector(30, {0: 1.0, 11: 1.0, 13: 1.0, 16: 1.0, 17: 1.0, 18: 1.0, 19: 1.0, 22: 1.0, 24: 40.0, 25: 643.0, 26: 74.0, 27: 2.0, 28: 256.0, 29: 1.0}), age=40, job='management', marital='married', education='secondary', default='no', balance=643, housing='yes', loan='no', contact='cellular', day=17, month='apr', duration=74, campaign=2, pdays=256, previous=1, poutcome='failure', y='no', rawPrediction=DenseVector([3.1549, -3.1549]), probability=DenseVector([0.9591, 0.0409]), prediction=0.0)]"
            ]
          },
          "metadata": {},
          "execution_count": 49
        }
      ],
      "source": [
        "predictions.head(10)"
      ]
    },
    {
      "cell_type": "markdown",
      "metadata": {
        "id": "Z-2MVhsn606K"
      },
      "source": [
        "5. What is the area under the curve?\n",
        "\n",
        "    You can find it with the `evaluator.evaluate()` function."
      ]
    },
    {
      "cell_type": "code",
      "execution_count": 50,
      "metadata": {
        "application/vnd.databricks.v1+cell": {
          "inputWidgets": {},
          "nuid": "5308cabd-37c2-43d2-bb24-19d638ec54e9",
          "showTitle": false,
          "title": ""
        },
        "id": "-bH62bSe606K",
        "colab": {
          "base_uri": "https://localhost:8080/"
        },
        "outputId": "6643770a-22af-42c9-f795-b375d05fb801"
      },
      "outputs": [
        {
          "output_type": "execute_result",
          "data": {
            "text/plain": [
              "0.8923928476884939"
            ]
          },
          "metadata": {},
          "execution_count": 50
        }
      ],
      "source": [
        "from pyspark.ml.evaluation import BinaryClassificationEvaluator\n",
        "\n",
        "evaluator = BinaryClassificationEvaluator()\n",
        "evaluator.evaluate(predictions)"
      ]
    },
    {
      "cell_type": "markdown",
      "metadata": {
        "application/vnd.databricks.v1+cell": {
          "inputWidgets": {},
          "nuid": "9a5ca7ac-9dd1-4610-93c2-41a53c40da74",
          "showTitle": false,
          "title": ""
        },
        "id": "iL4_IuwT606L"
      },
      "source": [
        "## OPTIONAL: HyperParameter Tuning a Gradient-Boosted Tree Classifier\n",
        "\n",
        "1. Fit and make predictions using `GBTClassifier`. The syntax will match what we did above with `LogisticRegression`."
      ]
    },
    {
      "cell_type": "code",
      "execution_count": 51,
      "metadata": {
        "application/vnd.databricks.v1+cell": {
          "inputWidgets": {},
          "nuid": "e207bd8b-47a0-435a-8e82-affae0da0b9c",
          "showTitle": false,
          "title": ""
        },
        "id": "ROwTeFaz606L",
        "colab": {
          "base_uri": "https://localhost:8080/"
        },
        "outputId": "02ac71f0-272d-4b7d-d7e5-2d7e1f03ed12"
      },
      "outputs": [
        {
          "output_type": "stream",
          "name": "stdout",
          "text": [
            "+---+----------+-----+--------------------+----------+--------------------+\n",
            "|age|       job|label|       rawPrediction|prediction|         probability|\n",
            "+---+----------+-----+--------------------+----------+--------------------+\n",
            "| 31|management|  0.0|[1.16689784886501...|       0.0|[0.91163757541824...|\n",
            "| 33|management|  0.0|[1.26049384553311...|       0.0|[0.92560010033749...|\n",
            "| 34|management|  0.0|[1.05327172489779...|       0.0|[0.89153754260138...|\n",
            "| 34|management|  0.0|[0.91776821388639...|       0.0|[0.86241995288222...|\n",
            "| 42|management|  0.0|[1.31125621180928...|       0.0|[0.93229646236370...|\n",
            "| 51|management|  0.0|[0.94278475987107...|       0.0|[0.86824954420916...|\n",
            "| 60|management|  0.0|[0.94405223096989...|       0.0|[0.86853925141526...|\n",
            "| 39|management|  0.0|[1.31125621180928...|       0.0|[0.93229646236370...|\n",
            "| 31|management|  0.0|[0.15474507893673...|       0.0|[0.57676080957657...|\n",
            "| 40|management|  0.0|[1.29225360370912...|       0.0|[0.92985780953859...|\n",
            "+---+----------+-----+--------------------+----------+--------------------+\n",
            "only showing top 10 rows\n",
            "\n"
          ]
        }
      ],
      "source": [
        "from pyspark.ml.classification import GBTClassifier\n",
        "\n",
        "gbt = GBTClassifier(maxIter=10)\n",
        "gbtModel = gbt.fit(train)\n",
        "predictions = gbtModel.transform(test)\n",
        "predictions.select('age', 'job', 'label', 'rawPrediction', 'prediction', 'probability').show(10)"
      ]
    },
    {
      "cell_type": "markdown",
      "metadata": {
        "application/vnd.databricks.v1+cell": {
          "inputWidgets": {},
          "nuid": "eafee88c-db02-4818-ae96-6165bd61ca1a",
          "showTitle": false,
          "title": ""
        },
        "id": "5Od9M0JV606L"
      },
      "source": [
        "2. Run some cross validation to compare different parameters.\n",
        "\n",
        "    Note that it can take a while because it's training over many gradient boosted trees. Give it at least 10 minutes to complete."
      ]
    },
    {
      "cell_type": "code",
      "execution_count": 52,
      "metadata": {
        "application/vnd.databricks.v1+cell": {
          "inputWidgets": {},
          "nuid": "0e9fcb9e-a99a-41fa-bc9f-e58a5f5513bb",
          "showTitle": false,
          "title": ""
        },
        "id": "_Upc0CJf606L",
        "colab": {
          "base_uri": "https://localhost:8080/"
        },
        "outputId": "a068bb0a-903a-46ca-91a1-3e3b24a380f8"
      },
      "outputs": [
        {
          "output_type": "execute_result",
          "data": {
            "text/plain": [
              "0.8834115466993964"
            ]
          },
          "metadata": {},
          "execution_count": 52
        }
      ],
      "source": [
        "from pyspark.ml.tuning import ParamGridBuilder, CrossValidator\n",
        "paramGrid = (ParamGridBuilder()\n",
        "             .addGrid(gbt.maxDepth, [2, 4, 6])\n",
        "             .addGrid(gbt.maxBins, [20, 60])\n",
        "             .addGrid(gbt.maxIter, [10, 20])\n",
        "             .build())\n",
        "cv = CrossValidator(estimator=gbt, estimatorParamMaps=paramGrid, evaluator=evaluator, numFolds=5)\n",
        "cvModel = cv.fit(train)\n",
        "predictions = cvModel.transform(test)\n",
        "evaluator.evaluate(predictions)"
      ]
    },
    {
      "cell_type": "markdown",
      "metadata": {
        "id": "psf7A_uz606M"
      },
      "source": [
        "## Acknowledgements"
      ]
    },
    {
      "cell_type": "markdown",
      "metadata": {
        "id": "HH1MXhRU606M"
      },
      "source": [
        "\n",
        "This notebook is adapted from [Machine Learning with PySpark and MLlib](https://towardsdatascience.com/machine-learning-with-pyspark-and-mllib-solving-a-binary-classification-problem-96396065d2aa)"
      ]
    }
  ],
  "metadata": {
    "application/vnd.databricks.v1+notebook": {
      "dashboards": [],
      "language": "python",
      "notebookMetadata": {
        "pythonIndentUnit": 4
      },
      "notebookName": "PySpark-Live-Assignment-Solution",
      "notebookOrigID": 1487042689144518,
      "widgets": {}
    },
    "colab": {
      "collapsed_sections": [],
      "provenance": []
    },
    "kernelspec": {
      "display_name": "Python 3 (ipykernel)",
      "language": "python",
      "name": "python3"
    },
    "language_info": {
      "codemirror_mode": {
        "name": "ipython",
        "version": 3
      },
      "file_extension": ".py",
      "mimetype": "text/x-python",
      "name": "python",
      "nbconvert_exporter": "python",
      "pygments_lexer": "ipython3",
      "version": "3.10.4"
    },
    "toc": {
      "base_numbering": 1,
      "nav_menu": {},
      "number_sections": true,
      "sideBar": true,
      "skip_h1_title": false,
      "title_cell": "Table of Contents",
      "title_sidebar": "Contents",
      "toc_cell": false,
      "toc_position": {},
      "toc_section_display": true,
      "toc_window_display": false
    },
    "vscode": {
      "interpreter": {
        "hash": "aee8b7b246df8f9039afb4144a1f6fd8d2ca17a180786b69acc140d282b71a49"
      }
    }
  },
  "nbformat": 4,
  "nbformat_minor": 0
}